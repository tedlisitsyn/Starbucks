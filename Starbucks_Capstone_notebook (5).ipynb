{
 "cells": [
  {
   "cell_type": "markdown",
   "metadata": {},
   "source": [
    "# Starbucks Capstone Challenge\n",
    "\n",
    "### Introduction\n",
    "\n",
    "This data set contains simulated data that mimics customer behavior on the Starbucks rewards mobile app. Once every few days, Starbucks sends out an offer to users of the mobile app. An offer can be merely an advertisement for a drink or an actual offer such as a discount or BOGO (buy one get one free). Some users might not receive any offer during certain weeks. \n",
    "\n",
    "Not all users receive the same offer, and that is the challenge to solve with this data set.\n",
    "\n",
    "Your task is to combine transaction, demographic and offer data to determine which demographic groups respond best to which offer type. This data set is a simplified version of the real Starbucks app because the underlying simulator only has one product whereas Starbucks actually sells dozens of products.\n",
    "\n",
    "Every offer has a validity period before the offer expires. As an example, a BOGO offer might be valid for only 5 days. You'll see in the data set that informational offers have a validity period even though these ads are merely providing information about a product; for example, if an informational offer has 7 days of validity, you can assume the customer is feeling the influence of the offer for 7 days after receiving the advertisement.\n",
    "\n",
    "You'll be given transactional data showing user purchases made on the app including the timestamp of purchase and the amount of money spent on a purchase. This transactional data also has a record for each offer that a user receives as well as a record for when a user actually views the offer. There are also records for when a user completes an offer. \n",
    "\n",
    "Keep in mind as well that someone using the app might make a purchase through the app without having received an offer or seen an offer.\n",
    "\n",
    "### Example\n",
    "\n",
    "To give an example, a user could receive a discount offer buy 10 dollars get 2 off on Monday. The offer is valid for 10 days from receipt. If the customer accumulates at least 10 dollars in purchases during the validity period, the customer completes the offer.\n",
    "\n",
    "However, there are a few things to watch out for in this data set. Customers do not opt into the offers that they receive; in other words, a user can receive an offer, never actually view the offer, and still complete the offer. For example, a user might receive the \"buy 10 dollars get 2 dollars off offer\", but the user never opens the offer during the 10 day validity period. The customer spends 15 dollars during those ten days. There will be an offer completion record in the data set; however, the customer was not influenced by the offer because the customer never viewed the offer.\n",
    "\n",
    "### Cleaning\n",
    "\n",
    "This makes data cleaning especially important and tricky.\n",
    "\n",
    "You'll also want to take into account that some demographic groups will make purchases even if they don't receive an offer. From a business perspective, if a customer is going to make a 10 dollar purchase without an offer anyway, you wouldn't want to send a buy 10 dollars get 2 dollars off offer. You'll want to try to assess what a certain demographic group will buy when not receiving any offers.\n",
    "\n",
    "### Final Advice\n",
    "\n",
    "Because this is a capstone project, you are free to analyze the data any way you see fit. For example, you could build a machine learning model that predicts how much someone will spend based on demographics and offer type. Or you could build a model that predicts whether or not someone will respond to an offer. Or, you don't need to build a machine learning model at all. You could develop a set of heuristics that determine what offer you should send to each customer (i.e., 75 percent of women customers who were 35 years old responded to offer A vs 40 percent from the same demographic to offer B, so send offer A)."
   ]
  },
  {
   "cell_type": "markdown",
   "metadata": {},
   "source": []
  },
  {
   "cell_type": "markdown",
   "metadata": {},
   "source": [
    "# Starbucks Capstone Challenge\n",
    "## Identify Perfect Promotions "
   ]
  },
  {
   "cell_type": "markdown",
   "metadata": {},
   "source": [
    "## Data Sets Description\n",
    "\n",
    "The dataset consists of three JSON files:\n",
    "- `portfolio.json`: 10 unique promotional offers (BOGO, discount, informational), along with channels, difficulty, reward, and duration\n",
    "- `profile.json`: 17,000 Starbucks users with age, gender, income, and membership date\n",
    "- `transcript.json`: ~306,000 time-stamped user events such as receiving, viewing, completing offers, and making transactions\n",
    "\n",
    "The goal is to link these datasets to understand which users respond best to which offers—and why.\n",
    "\n",
    "Here is the schema and explanation of each variable in the files:\n",
    "\n",
    "**portfolio.json**\n",
    "* id (string) - offer id\n",
    "* offer_type (string) - type of offer ie BOGO, discount, informational\n",
    "* difficulty (int) - minimum required spend to complete an offer\n",
    "* reward (int) - reward given for completing an offer\n",
    "* duration (int) - time for offer to be open, in days\n",
    "* channels (list of strings)\n",
    "\n",
    "**profile.json**\n",
    "* age (int) - age of the customer \n",
    "* became_member_on (int) - date when customer created an app account\n",
    "* gender (str) - gender of the customer (note some entries contain 'O' for other rather than M or F)\n",
    "* id (str) - customer id\n",
    "* income (float) - customer's income\n",
    "\n",
    "**transcript.json**\n",
    "* event (str) - record description (ie transaction, offer received, offer viewed, etc.)\n",
    "* person (str) - customer id\n",
    "* time (int) - time in hours since start of test. The data begins at time t=0\n",
    "* value - (dict of strings) - either an offer id or transaction amount depending on the record"
   ]
  },
  {
   "cell_type": "markdown",
   "metadata": {},
   "source": [
    "## Strategy for solving the problem"
   ]
  },
  {
   "cell_type": "markdown",
   "metadata": {},
   "source": [
    "Our approach was split into three layers:\n",
    "\n",
    "1. **Exploratory Funnel Analysis**: Track view and completion rates by offer type, demographics, and delivery channels.\n",
    "2. **Behavioral Segmentation**: Segment users by age, income, gender, and response pattern.\n",
    "3. **Collaborative Filtering Model**: Use matrix factorization (SVD) to recommend the optimal offer type based on user response history."
   ]
  },
  {
   "cell_type": "markdown",
   "metadata": {},
   "source": [
    "## Discussion of the expected solution\n",
    "\n",
    "**The full pipeline includes:**\n",
    "- Cleaning and merging all three datasets\n",
    "- Feature engineering: timestamps, response flags, channel unrolling\n",
    "- Funnel metrics: view/completion rates by cohort\n",
    "- Time-lag tracking for engagement analysis\n",
    "- SVD-based matrix factorization to recommend offer types per user"
   ]
  },
  {
   "cell_type": "markdown",
   "metadata": {},
   "source": [
    "## Metrics with justification\n",
    "\n",
    "We used funnel-based metrics to evaluate performance:\n",
    "- **View Rate**: % of received offers that were opened\n",
    "- **Completion Rate**: % of received offers that were redeemed\n",
    "- **Transaction Spend**: Average \\\\$ spent per transaction (influenced vs. organic)\n",
    "\n",
    "For the SVD recommender:\n",
    "- **Top-N recommendations per user**\n",
    "- **Distribution of top offer types**\n",
    "\n",
    "These metrics are directly tied to business goals: user engagement and offer ROI."
   ]
  },
  {
   "cell_type": "markdown",
   "metadata": {},
   "source": [
    "## Data Preprocessing\n",
    "\n",
    "Let's start from a quick file overview and some preparation work:"
   ]
  },
  {
   "cell_type": "code",
   "execution_count": 27,
   "metadata": {},
   "outputs": [],
   "source": [
    "import pandas as pd\n",
    "import numpy as np\n",
    "import math\n",
    "import json\n",
    "import matplotlib.pyplot as plt\n",
    "import seaborn as sns\n",
    "\n",
    "# read in the json files\n",
    "portfolio_df = pd.read_json('data/portfolio.json', orient='records', lines=True)\n",
    "profile_df = pd.read_json('data/profile.json', orient='records', lines=True)\n",
    "transcript_df = pd.read_json('data/transcript.json', orient='records', lines=True)"
   ]
  },
  {
   "cell_type": "code",
   "execution_count": 28,
   "metadata": {},
   "outputs": [
    {
     "data": {
      "text/html": [
       "<div>\n",
       "<style scoped>\n",
       "    .dataframe tbody tr th:only-of-type {\n",
       "        vertical-align: middle;\n",
       "    }\n",
       "\n",
       "    .dataframe tbody tr th {\n",
       "        vertical-align: top;\n",
       "    }\n",
       "\n",
       "    .dataframe thead th {\n",
       "        text-align: right;\n",
       "    }\n",
       "</style>\n",
       "<table border=\"1\" class=\"dataframe\">\n",
       "  <thead>\n",
       "    <tr style=\"text-align: right;\">\n",
       "      <th></th>\n",
       "      <th>channels</th>\n",
       "      <th>difficulty</th>\n",
       "      <th>duration</th>\n",
       "      <th>id</th>\n",
       "      <th>offer_type</th>\n",
       "      <th>reward</th>\n",
       "    </tr>\n",
       "  </thead>\n",
       "  <tbody>\n",
       "    <tr>\n",
       "      <th>0</th>\n",
       "      <td>[email, mobile, social]</td>\n",
       "      <td>10</td>\n",
       "      <td>7</td>\n",
       "      <td>ae264e3637204a6fb9bb56bc8210ddfd</td>\n",
       "      <td>bogo</td>\n",
       "      <td>10</td>\n",
       "    </tr>\n",
       "    <tr>\n",
       "      <th>1</th>\n",
       "      <td>[web, email, mobile, social]</td>\n",
       "      <td>10</td>\n",
       "      <td>5</td>\n",
       "      <td>4d5c57ea9a6940dd891ad53e9dbe8da0</td>\n",
       "      <td>bogo</td>\n",
       "      <td>10</td>\n",
       "    </tr>\n",
       "    <tr>\n",
       "      <th>2</th>\n",
       "      <td>[web, email, mobile]</td>\n",
       "      <td>0</td>\n",
       "      <td>4</td>\n",
       "      <td>3f207df678b143eea3cee63160fa8bed</td>\n",
       "      <td>informational</td>\n",
       "      <td>0</td>\n",
       "    </tr>\n",
       "    <tr>\n",
       "      <th>3</th>\n",
       "      <td>[web, email, mobile]</td>\n",
       "      <td>5</td>\n",
       "      <td>7</td>\n",
       "      <td>9b98b8c7a33c4b65b9aebfe6a799e6d9</td>\n",
       "      <td>bogo</td>\n",
       "      <td>5</td>\n",
       "    </tr>\n",
       "    <tr>\n",
       "      <th>4</th>\n",
       "      <td>[web, email]</td>\n",
       "      <td>20</td>\n",
       "      <td>10</td>\n",
       "      <td>0b1e1539f2cc45b7b9fa7c272da2e1d7</td>\n",
       "      <td>discount</td>\n",
       "      <td>5</td>\n",
       "    </tr>\n",
       "    <tr>\n",
       "      <th>5</th>\n",
       "      <td>[web, email, mobile, social]</td>\n",
       "      <td>7</td>\n",
       "      <td>7</td>\n",
       "      <td>2298d6c36e964ae4a3e7e9706d1fb8c2</td>\n",
       "      <td>discount</td>\n",
       "      <td>3</td>\n",
       "    </tr>\n",
       "    <tr>\n",
       "      <th>6</th>\n",
       "      <td>[web, email, mobile, social]</td>\n",
       "      <td>10</td>\n",
       "      <td>10</td>\n",
       "      <td>fafdcd668e3743c1bb461111dcafc2a4</td>\n",
       "      <td>discount</td>\n",
       "      <td>2</td>\n",
       "    </tr>\n",
       "    <tr>\n",
       "      <th>7</th>\n",
       "      <td>[email, mobile, social]</td>\n",
       "      <td>0</td>\n",
       "      <td>3</td>\n",
       "      <td>5a8bc65990b245e5a138643cd4eb9837</td>\n",
       "      <td>informational</td>\n",
       "      <td>0</td>\n",
       "    </tr>\n",
       "    <tr>\n",
       "      <th>8</th>\n",
       "      <td>[web, email, mobile, social]</td>\n",
       "      <td>5</td>\n",
       "      <td>5</td>\n",
       "      <td>f19421c1d4aa40978ebb69ca19b0e20d</td>\n",
       "      <td>bogo</td>\n",
       "      <td>5</td>\n",
       "    </tr>\n",
       "    <tr>\n",
       "      <th>9</th>\n",
       "      <td>[web, email, mobile]</td>\n",
       "      <td>10</td>\n",
       "      <td>7</td>\n",
       "      <td>2906b810c7d4411798c6938adc9daaa5</td>\n",
       "      <td>discount</td>\n",
       "      <td>2</td>\n",
       "    </tr>\n",
       "  </tbody>\n",
       "</table>\n",
       "</div>"
      ],
      "text/plain": [
       "                       channels  difficulty  duration  \\\n",
       "0       [email, mobile, social]          10         7   \n",
       "1  [web, email, mobile, social]          10         5   \n",
       "2          [web, email, mobile]           0         4   \n",
       "3          [web, email, mobile]           5         7   \n",
       "4                  [web, email]          20        10   \n",
       "5  [web, email, mobile, social]           7         7   \n",
       "6  [web, email, mobile, social]          10        10   \n",
       "7       [email, mobile, social]           0         3   \n",
       "8  [web, email, mobile, social]           5         5   \n",
       "9          [web, email, mobile]          10         7   \n",
       "\n",
       "                                 id     offer_type  reward  \n",
       "0  ae264e3637204a6fb9bb56bc8210ddfd           bogo      10  \n",
       "1  4d5c57ea9a6940dd891ad53e9dbe8da0           bogo      10  \n",
       "2  3f207df678b143eea3cee63160fa8bed  informational       0  \n",
       "3  9b98b8c7a33c4b65b9aebfe6a799e6d9           bogo       5  \n",
       "4  0b1e1539f2cc45b7b9fa7c272da2e1d7       discount       5  \n",
       "5  2298d6c36e964ae4a3e7e9706d1fb8c2       discount       3  \n",
       "6  fafdcd668e3743c1bb461111dcafc2a4       discount       2  \n",
       "7  5a8bc65990b245e5a138643cd4eb9837  informational       0  \n",
       "8  f19421c1d4aa40978ebb69ca19b0e20d           bogo       5  \n",
       "9  2906b810c7d4411798c6938adc9daaa5       discount       2  "
      ]
     },
     "execution_count": 28,
     "metadata": {},
     "output_type": "execute_result"
    }
   ],
   "source": [
    "portfolio_df.head(10)"
   ]
  },
  {
   "cell_type": "code",
   "execution_count": 29,
   "metadata": {},
   "outputs": [
    {
     "data": {
      "text/html": [
       "<div>\n",
       "<style scoped>\n",
       "    .dataframe tbody tr th:only-of-type {\n",
       "        vertical-align: middle;\n",
       "    }\n",
       "\n",
       "    .dataframe tbody tr th {\n",
       "        vertical-align: top;\n",
       "    }\n",
       "\n",
       "    .dataframe thead th {\n",
       "        text-align: right;\n",
       "    }\n",
       "</style>\n",
       "<table border=\"1\" class=\"dataframe\">\n",
       "  <thead>\n",
       "    <tr style=\"text-align: right;\">\n",
       "      <th></th>\n",
       "      <th>age</th>\n",
       "      <th>became_member_on</th>\n",
       "      <th>gender</th>\n",
       "      <th>id</th>\n",
       "      <th>income</th>\n",
       "    </tr>\n",
       "  </thead>\n",
       "  <tbody>\n",
       "    <tr>\n",
       "      <th>0</th>\n",
       "      <td>118</td>\n",
       "      <td>20170212</td>\n",
       "      <td>None</td>\n",
       "      <td>68be06ca386d4c31939f3a4f0e3dd783</td>\n",
       "      <td>NaN</td>\n",
       "    </tr>\n",
       "    <tr>\n",
       "      <th>1</th>\n",
       "      <td>55</td>\n",
       "      <td>20170715</td>\n",
       "      <td>F</td>\n",
       "      <td>0610b486422d4921ae7d2bf64640c50b</td>\n",
       "      <td>112000.0</td>\n",
       "    </tr>\n",
       "    <tr>\n",
       "      <th>2</th>\n",
       "      <td>118</td>\n",
       "      <td>20180712</td>\n",
       "      <td>None</td>\n",
       "      <td>38fe809add3b4fcf9315a9694bb96ff5</td>\n",
       "      <td>NaN</td>\n",
       "    </tr>\n",
       "    <tr>\n",
       "      <th>3</th>\n",
       "      <td>75</td>\n",
       "      <td>20170509</td>\n",
       "      <td>F</td>\n",
       "      <td>78afa995795e4d85b5d9ceeca43f5fef</td>\n",
       "      <td>100000.0</td>\n",
       "    </tr>\n",
       "    <tr>\n",
       "      <th>4</th>\n",
       "      <td>118</td>\n",
       "      <td>20170804</td>\n",
       "      <td>None</td>\n",
       "      <td>a03223e636434f42ac4c3df47e8bac43</td>\n",
       "      <td>NaN</td>\n",
       "    </tr>\n",
       "    <tr>\n",
       "      <th>5</th>\n",
       "      <td>68</td>\n",
       "      <td>20180426</td>\n",
       "      <td>M</td>\n",
       "      <td>e2127556f4f64592b11af22de27a7932</td>\n",
       "      <td>70000.0</td>\n",
       "    </tr>\n",
       "    <tr>\n",
       "      <th>6</th>\n",
       "      <td>118</td>\n",
       "      <td>20170925</td>\n",
       "      <td>None</td>\n",
       "      <td>8ec6ce2a7e7949b1bf142def7d0e0586</td>\n",
       "      <td>NaN</td>\n",
       "    </tr>\n",
       "    <tr>\n",
       "      <th>7</th>\n",
       "      <td>118</td>\n",
       "      <td>20171002</td>\n",
       "      <td>None</td>\n",
       "      <td>68617ca6246f4fbc85e91a2a49552598</td>\n",
       "      <td>NaN</td>\n",
       "    </tr>\n",
       "    <tr>\n",
       "      <th>8</th>\n",
       "      <td>65</td>\n",
       "      <td>20180209</td>\n",
       "      <td>M</td>\n",
       "      <td>389bc3fa690240e798340f5a15918d5c</td>\n",
       "      <td>53000.0</td>\n",
       "    </tr>\n",
       "    <tr>\n",
       "      <th>9</th>\n",
       "      <td>118</td>\n",
       "      <td>20161122</td>\n",
       "      <td>None</td>\n",
       "      <td>8974fc5686fe429db53ddde067b88302</td>\n",
       "      <td>NaN</td>\n",
       "    </tr>\n",
       "  </tbody>\n",
       "</table>\n",
       "</div>"
      ],
      "text/plain": [
       "   age  became_member_on gender                                id    income\n",
       "0  118          20170212   None  68be06ca386d4c31939f3a4f0e3dd783       NaN\n",
       "1   55          20170715      F  0610b486422d4921ae7d2bf64640c50b  112000.0\n",
       "2  118          20180712   None  38fe809add3b4fcf9315a9694bb96ff5       NaN\n",
       "3   75          20170509      F  78afa995795e4d85b5d9ceeca43f5fef  100000.0\n",
       "4  118          20170804   None  a03223e636434f42ac4c3df47e8bac43       NaN\n",
       "5   68          20180426      M  e2127556f4f64592b11af22de27a7932   70000.0\n",
       "6  118          20170925   None  8ec6ce2a7e7949b1bf142def7d0e0586       NaN\n",
       "7  118          20171002   None  68617ca6246f4fbc85e91a2a49552598       NaN\n",
       "8   65          20180209      M  389bc3fa690240e798340f5a15918d5c   53000.0\n",
       "9  118          20161122   None  8974fc5686fe429db53ddde067b88302       NaN"
      ]
     },
     "execution_count": 29,
     "metadata": {},
     "output_type": "execute_result"
    }
   ],
   "source": [
    "profile_df.head(10)"
   ]
  },
  {
   "cell_type": "markdown",
   "metadata": {},
   "source": [
    "A lot of ages are missed (118 is a place holder) as well as \"gender\" and \"income\" are missed"
   ]
  },
  {
   "cell_type": "code",
   "execution_count": 30,
   "metadata": {},
   "outputs": [
    {
     "data": {
      "text/html": [
       "<div>\n",
       "<style scoped>\n",
       "    .dataframe tbody tr th:only-of-type {\n",
       "        vertical-align: middle;\n",
       "    }\n",
       "\n",
       "    .dataframe tbody tr th {\n",
       "        vertical-align: top;\n",
       "    }\n",
       "\n",
       "    .dataframe thead th {\n",
       "        text-align: right;\n",
       "    }\n",
       "</style>\n",
       "<table border=\"1\" class=\"dataframe\">\n",
       "  <thead>\n",
       "    <tr style=\"text-align: right;\">\n",
       "      <th></th>\n",
       "      <th>event</th>\n",
       "      <th>person</th>\n",
       "      <th>time</th>\n",
       "      <th>value</th>\n",
       "    </tr>\n",
       "  </thead>\n",
       "  <tbody>\n",
       "    <tr>\n",
       "      <th>0</th>\n",
       "      <td>offer received</td>\n",
       "      <td>78afa995795e4d85b5d9ceeca43f5fef</td>\n",
       "      <td>0</td>\n",
       "      <td>{'offer id': '9b98b8c7a33c4b65b9aebfe6a799e6d9'}</td>\n",
       "    </tr>\n",
       "    <tr>\n",
       "      <th>1</th>\n",
       "      <td>offer received</td>\n",
       "      <td>a03223e636434f42ac4c3df47e8bac43</td>\n",
       "      <td>0</td>\n",
       "      <td>{'offer id': '0b1e1539f2cc45b7b9fa7c272da2e1d7'}</td>\n",
       "    </tr>\n",
       "    <tr>\n",
       "      <th>2</th>\n",
       "      <td>offer received</td>\n",
       "      <td>e2127556f4f64592b11af22de27a7932</td>\n",
       "      <td>0</td>\n",
       "      <td>{'offer id': '2906b810c7d4411798c6938adc9daaa5'}</td>\n",
       "    </tr>\n",
       "    <tr>\n",
       "      <th>3</th>\n",
       "      <td>offer received</td>\n",
       "      <td>8ec6ce2a7e7949b1bf142def7d0e0586</td>\n",
       "      <td>0</td>\n",
       "      <td>{'offer id': 'fafdcd668e3743c1bb461111dcafc2a4'}</td>\n",
       "    </tr>\n",
       "    <tr>\n",
       "      <th>4</th>\n",
       "      <td>offer received</td>\n",
       "      <td>68617ca6246f4fbc85e91a2a49552598</td>\n",
       "      <td>0</td>\n",
       "      <td>{'offer id': '4d5c57ea9a6940dd891ad53e9dbe8da0'}</td>\n",
       "    </tr>\n",
       "    <tr>\n",
       "      <th>5</th>\n",
       "      <td>offer received</td>\n",
       "      <td>389bc3fa690240e798340f5a15918d5c</td>\n",
       "      <td>0</td>\n",
       "      <td>{'offer id': 'f19421c1d4aa40978ebb69ca19b0e20d'}</td>\n",
       "    </tr>\n",
       "    <tr>\n",
       "      <th>6</th>\n",
       "      <td>offer received</td>\n",
       "      <td>c4863c7985cf408faee930f111475da3</td>\n",
       "      <td>0</td>\n",
       "      <td>{'offer id': '2298d6c36e964ae4a3e7e9706d1fb8c2'}</td>\n",
       "    </tr>\n",
       "    <tr>\n",
       "      <th>7</th>\n",
       "      <td>offer received</td>\n",
       "      <td>2eeac8d8feae4a8cad5a6af0499a211d</td>\n",
       "      <td>0</td>\n",
       "      <td>{'offer id': '3f207df678b143eea3cee63160fa8bed'}</td>\n",
       "    </tr>\n",
       "    <tr>\n",
       "      <th>8</th>\n",
       "      <td>offer received</td>\n",
       "      <td>aa4862eba776480b8bb9c68455b8c2e1</td>\n",
       "      <td>0</td>\n",
       "      <td>{'offer id': '0b1e1539f2cc45b7b9fa7c272da2e1d7'}</td>\n",
       "    </tr>\n",
       "    <tr>\n",
       "      <th>9</th>\n",
       "      <td>offer received</td>\n",
       "      <td>31dda685af34476cad5bc968bdb01c53</td>\n",
       "      <td>0</td>\n",
       "      <td>{'offer id': '0b1e1539f2cc45b7b9fa7c272da2e1d7'}</td>\n",
       "    </tr>\n",
       "  </tbody>\n",
       "</table>\n",
       "</div>"
      ],
      "text/plain": [
       "            event                            person  time  \\\n",
       "0  offer received  78afa995795e4d85b5d9ceeca43f5fef     0   \n",
       "1  offer received  a03223e636434f42ac4c3df47e8bac43     0   \n",
       "2  offer received  e2127556f4f64592b11af22de27a7932     0   \n",
       "3  offer received  8ec6ce2a7e7949b1bf142def7d0e0586     0   \n",
       "4  offer received  68617ca6246f4fbc85e91a2a49552598     0   \n",
       "5  offer received  389bc3fa690240e798340f5a15918d5c     0   \n",
       "6  offer received  c4863c7985cf408faee930f111475da3     0   \n",
       "7  offer received  2eeac8d8feae4a8cad5a6af0499a211d     0   \n",
       "8  offer received  aa4862eba776480b8bb9c68455b8c2e1     0   \n",
       "9  offer received  31dda685af34476cad5bc968bdb01c53     0   \n",
       "\n",
       "                                              value  \n",
       "0  {'offer id': '9b98b8c7a33c4b65b9aebfe6a799e6d9'}  \n",
       "1  {'offer id': '0b1e1539f2cc45b7b9fa7c272da2e1d7'}  \n",
       "2  {'offer id': '2906b810c7d4411798c6938adc9daaa5'}  \n",
       "3  {'offer id': 'fafdcd668e3743c1bb461111dcafc2a4'}  \n",
       "4  {'offer id': '4d5c57ea9a6940dd891ad53e9dbe8da0'}  \n",
       "5  {'offer id': 'f19421c1d4aa40978ebb69ca19b0e20d'}  \n",
       "6  {'offer id': '2298d6c36e964ae4a3e7e9706d1fb8c2'}  \n",
       "7  {'offer id': '3f207df678b143eea3cee63160fa8bed'}  \n",
       "8  {'offer id': '0b1e1539f2cc45b7b9fa7c272da2e1d7'}  \n",
       "9  {'offer id': '0b1e1539f2cc45b7b9fa7c272da2e1d7'}  "
      ]
     },
     "execution_count": 30,
     "metadata": {},
     "output_type": "execute_result"
    }
   ],
   "source": [
    "transcript_df.head(10)"
   ]
  },
  {
   "cell_type": "markdown",
   "metadata": {},
   "source": [
    "### Clean Data\n",
    "\n",
    "- Removed users with placeholder age (118) or missing gender/income\n",
    "- Flattened nested fields from JSON (e.g., `value`, `channels`)\n",
    "- Standardized `offer_id` and `offer_type` across event records\n",
    "- Created binary flags for offer response and influenced/organic transactions"
   ]
  },
  {
   "cell_type": "markdown",
   "metadata": {},
   "source": [
    "#### Let's start with Portfolio"
   ]
  },
  {
   "cell_type": "code",
   "execution_count": 31,
   "metadata": {},
   "outputs": [
    {
     "data": {
      "text/plain": [
       "{'total_offers': 10,\n",
       " 'offer_types': {'bogo': 4, 'discount': 4, 'informational': 2},\n",
       " 'duration_range': (3, 10),\n",
       " 'difficulty_range': (0, 20),\n",
       " 'reward_range': (0, 10),\n",
       " 'missing_values': {'channels': 0,\n",
       "  'difficulty': 0,\n",
       "  'duration': 0,\n",
       "  'id': 0,\n",
       "  'offer_type': 0,\n",
       "  'reward': 0}}"
      ]
     },
     "execution_count": 31,
     "metadata": {},
     "output_type": "execute_result"
    }
   ],
   "source": [
    "# Inspect portfolio data summary to identify any anomalies\n",
    "portfolio_summary = {\n",
    "    \"total_offers\": portfolio_df.shape[0],\n",
    "    \"offer_types\": portfolio_df['offer_type'].value_counts().to_dict(),\n",
    "    \"duration_range\": (portfolio_df['duration'].min(), portfolio_df['duration'].max()),\n",
    "    \"difficulty_range\": (portfolio_df['difficulty'].min(), portfolio_df['difficulty'].max()),\n",
    "    \"reward_range\": (portfolio_df['reward'].min(), portfolio_df['reward'].max()),\n",
    "    \"missing_values\": portfolio_df.isnull().sum().to_dict()\n",
    "}\n",
    "\n",
    "portfolio_summary"
   ]
  },
  {
   "cell_type": "markdown",
   "metadata": {},
   "source": [
    "Data is already clean:\n",
    "\n",
    "- No missing values\n",
    "\n",
    "- 10 total offers: 4 BOGO, 4 Discount, 2 Informational\n",
    "\n",
    "- Duration: 3–10 days\n",
    "- Difficulty: \\\\$0–\\\\$20\n",
    "- Reward: \\\\$0–\\\\$10"
   ]
  },
  {
   "cell_type": "markdown",
   "metadata": {},
   "source": [
    "#### Then let's clean \"profile\" file"
   ]
  },
  {
   "cell_type": "markdown",
   "metadata": {},
   "source": [
    "First let's review deeper the issue of \"118\" placeholder"
   ]
  },
  {
   "cell_type": "code",
   "execution_count": 32,
   "metadata": {},
   "outputs": [
    {
     "data": {
      "image/png": "[encoded data removed]",
      "text/plain": [
       "<matplotlib.figure.Figure at 0x78bfe2807668>"
      ]
     },
     "metadata": {
      "needs_background": "light"
     },
     "output_type": "display_data"
    }
   ],
   "source": [
    "plt.figure(figsize=(8, 5))\n",
    "sns.distplot(profile_df['age'], bins=30, kde=False, color='green')\n",
    "plt.title(\"Age Distribution (Including Age 118)\")\n",
    "plt.xlabel(\"Age\")\n",
    "plt.ylabel(\"Number of Users\")\n",
    "plt.grid(True)\n",
    "plt.show()"
   ]
  },
  {
   "cell_type": "markdown",
   "metadata": {},
   "source": [
    "It's clear, that 118 is a placeholder. Also all respondent are 18+ so can use offer."
   ]
  },
  {
   "cell_type": "markdown",
   "metadata": {},
   "source": [
    "Now let's review missing data:"
   ]
  },
  {
   "cell_type": "code",
   "execution_count": 33,
   "metadata": {},
   "outputs": [
    {
     "data": {
      "image/png": "[encoded data removed]",
      "text/plain": [
       "<matplotlib.figure.Figure at 0x78bfd2aa0b00>"
      ]
     },
     "metadata": {
      "needs_background": "light"
     },
     "output_type": "display_data"
    }
   ],
   "source": [
    "# Create flags for missing values\n",
    "profile_df['gender_missing'] = profile_df['gender'].isnull() | (~profile_df['gender'].isin(['M', 'F', 'O']))\n",
    "profile_df['income_missing'] = profile_df['income'].isnull()\n",
    "profile_df['age_invalid'] = profile_df['age'] >= 100\n",
    "\n",
    "# Count plot for gender, income, and age issues\n",
    "missing_summary = pd.DataFrame({\n",
    "    \"Category\": [\"Gender\", \"Income\", \"Age\"],\n",
    "    \"Missing\": [\n",
    "        profile_df['gender_missing'].sum(),\n",
    "        profile_df['income_missing'].sum(),\n",
    "        profile_df['age_invalid'].sum()\n",
    "    ],\n",
    "    \"Present\": [\n",
    "        (~profile_df['gender_missing']).sum(),\n",
    "        (~profile_df['income_missing']).sum(),\n",
    "        (~profile_df['age_invalid']).sum()\n",
    "    ]\n",
    "})\n",
    "\n",
    "# Melt for seaborn compatibility\n",
    "missing_melted = missing_summary.melt(id_vars=\"Category\", var_name=\"Status\", value_name=\"Count\")\n",
    "\n",
    "# Plot\n",
    "plt.figure(figsize=(8, 5))\n",
    "sns.barplot(data=missing_melted, x=\"Category\", y=\"Count\", hue=\"Status\", palette=\"muted\")\n",
    "plt.title(\"Missing vs Present Values in Profile Data\")\n",
    "plt.ylabel(\"Number of Users\")\n",
    "plt.xlabel(\"Data Category\")\n",
    "plt.show()"
   ]
  },
  {
   "cell_type": "markdown",
   "metadata": {},
   "source": [
    "Let's update df and remove missed data and placeholders"
   ]
  },
  {
   "cell_type": "code",
   "execution_count": 34,
   "metadata": {},
   "outputs": [
    {
     "data": {
      "text/plain": [
       "(2192, (14808, 8))"
      ]
     },
     "execution_count": 34,
     "metadata": {},
     "output_type": "execute_result"
    }
   ],
   "source": [
    "# Count rows before cleaning\n",
    "original_count = profile_df.shape[0]\n",
    "\n",
    "# Clean the profile dataset\n",
    "cleaned_profile_df = profile_df[\n",
    "    (profile_df['age'] < 100) &\n",
    "    (profile_df['income'].notnull()) &\n",
    "    (profile_df['gender'].isin(['M', 'F', 'O']))\n",
    "]\n",
    "\n",
    "# Count rows after cleaning\n",
    "cleaned_count = cleaned_profile_df.shape[0]\n",
    "removed_count = original_count - cleaned_count\n",
    "\n",
    "removed_count, cleaned_profile_df.shape"
   ]
  },
  {
   "cell_type": "markdown",
   "metadata": {},
   "source": [
    "2,192 lines have been removed, 14,808 for the further analysis left\n",
    "\n",
    "Now let's visualize new cleaned data:"
   ]
  },
  {
   "cell_type": "code",
   "execution_count": 35,
   "metadata": {},
   "outputs": [
    {
     "data": {
      "image/png": "[encoded data removed]",
      "text/plain": [
       "<matplotlib.figure.Figure at 0x78bff68deb00>"
      ]
     },
     "metadata": {
      "needs_background": "light"
     },
     "output_type": "display_data"
    }
   ],
   "source": [
    "# Create bar chart data for cleaned set\n",
    "cleaned_missing_summary = pd.DataFrame({\n",
    "    \"Category\": [\"Gender\", \"Income\", \"Age\"],\n",
    "    \"Missing\": [\n",
    "        cleaned_profile_df['gender_missing'].sum(),\n",
    "        cleaned_profile_df['income_missing'].sum(),\n",
    "        cleaned_profile_df['age_invalid'].sum()\n",
    "    ],\n",
    "    \"Present\": [\n",
    "        (~cleaned_profile_df['gender_missing']).sum(),\n",
    "        (~cleaned_profile_df['income_missing']).sum(),\n",
    "        (~cleaned_profile_df['age_invalid']).sum()\n",
    "    ]\n",
    "})\n",
    "cleaned_melted = cleaned_missing_summary.melt(id_vars=\"Category\", var_name=\"Status\", value_name=\"Count\")\n",
    "\n",
    "# Create plots side by side\n",
    "fig, axs = plt.subplots(1, 2, figsize=(14, 5))\n",
    "\n",
    "# Plot 1: Cleaned Age Distribution\n",
    "axs[0].hist(cleaned_profile_df['age'], bins=30, color='green')\n",
    "axs[0].set_title(\"Cleaned Age Distribution\")\n",
    "axs[0].set_xlabel(\"Age\")\n",
    "axs[0].set_ylabel(\"Count\")\n",
    "\n",
    "# Plot 2: Cleaned Missing Values Overview\n",
    "sns.barplot(data=cleaned_melted, x=\"Category\", y=\"Count\", hue=\"Status\", palette=\"muted\", ax=axs[1])\n",
    "axs[1].set_title(\"Missing vs Present in Cleaned Data\")\n",
    "axs[1].set_xlabel(\"Data Category\")\n",
    "axs[1].set_ylabel(\"Number of Users\")\n",
    "\n",
    "plt.tight_layout()\n",
    "plt.show()\n"
   ]
  },
  {
   "cell_type": "markdown",
   "metadata": {},
   "source": [
    "Now Profile has no \"bad\" or \"missed\" data"
   ]
  },
  {
   "cell_type": "markdown",
   "metadata": {},
   "source": [
    "#### Let's clean transcript.json"
   ]
  },
  {
   "cell_type": "markdown",
   "metadata": {},
   "source": [
    "After the initial try to cut the file on part to reduce size and run test on the smaller df - it was identified that error might be driven by \"bad lines\" or \"empty lines\". Let's check it:"
   ]
  },
  {
   "cell_type": "code",
   "execution_count": 36,
   "metadata": {},
   "outputs": [
    {
     "name": "stdout",
     "output_type": "stream",
     "text": [
      "Good lines: 306534\n",
      "Bad lines: 114\n"
     ]
    }
   ],
   "source": [
    "bad_lines = 0\n",
    "good_lines = 0\n",
    "cleaned_data = []\n",
    "\n",
    "with open('data/transcript.json', 'r') as f:\n",
    "    for i, line in enumerate(f, 1):\n",
    "        try:\n",
    "            cleaned_data.append(json.loads(line))\n",
    "            good_lines += 1\n",
    "        except json.JSONDecodeError:\n",
    "            bad_lines += 1\n",
    "\n",
    "print(f\"Good lines: {good_lines}\")\n",
    "print(f\"Bad lines: {bad_lines}\")"
   ]
  },
  {
   "cell_type": "markdown",
   "metadata": {},
   "source": [
    "Let's remove this bad lines before further analysis:"
   ]
  },
  {
   "cell_type": "code",
   "execution_count": 37,
   "metadata": {},
   "outputs": [],
   "source": [
    "# Convert to DataFrame\n",
    "transcript_clean_df = pd.DataFrame(cleaned_data)"
   ]
  },
  {
   "cell_type": "markdown",
   "metadata": {},
   "source": [
    "Let's check that there are no bad lines:"
   ]
  },
  {
   "cell_type": "code",
   "execution_count": 38,
   "metadata": {},
   "outputs": [
    {
     "name": "stdout",
     "output_type": "stream",
     "text": [
      "Total rows: 306534\n",
      "Rows missing expected keys: 0\n"
     ]
    }
   ],
   "source": [
    "# All rows must be dicts with expected fields\n",
    "expected_keys = {'person', 'event', 'value', 'time'}\n",
    "bad_rows = transcript_clean_df[\n",
    "    ~transcript_clean_df.apply(lambda row: expected_keys.issubset(row.index), axis=1)\n",
    "]\n",
    "\n",
    "print(f\"Total rows: {len(transcript_clean_df)}\")\n",
    "print(f\"Rows missing expected keys: {len(bad_rows)}\")"
   ]
  },
  {
   "cell_type": "markdown",
   "metadata": {},
   "source": [
    "Let's doublecheck for all parameteres if anything is missed"
   ]
  },
  {
   "cell_type": "code",
   "execution_count": 39,
   "metadata": {},
   "outputs": [
    {
     "name": "stdout",
     "output_type": "stream",
     "text": [
      "total_rows: 306534\n",
      "missing_person: 0\n",
      "missing_event: 0\n",
      "missing_value: 0\n",
      "missing_time: 0\n",
      "value_not_dict: 0\n"
     ]
    }
   ],
   "source": [
    "transcript_missing_summary = {\n",
    "    \"total_rows\": len(transcript_clean_df),\n",
    "    \"missing_person\": transcript_clean_df['person'].isnull().sum(),\n",
    "    \"missing_event\": transcript_clean_df['event'].isnull().sum(),\n",
    "    \"missing_value\": transcript_clean_df['value'].isnull().sum(),\n",
    "    \"missing_time\": transcript_clean_df['time'].isnull().sum(),\n",
    "    \"value_not_dict\": (~transcript_clean_df['value'].apply(lambda x: isinstance(x, dict))).sum()\n",
    "}\n",
    "\n",
    "# Display summary\n",
    "for key, value in transcript_missing_summary.items():\n",
    "    print(f\"{key}: {value}\")"
   ]
  },
  {
   "cell_type": "markdown",
   "metadata": {},
   "source": [
    "Data is clean and ready to be used for the further analysis!"
   ]
  },
  {
   "cell_type": "code",
   "execution_count": 40,
   "metadata": {},
   "outputs": [
    {
     "data": {
      "text/plain": [
       "{'portfolio_df': (10, 6),\n",
       " 'profile_df (cleaned)': (14808, 8),\n",
       " 'transcript_df (cleaned)': (306534, 4)}"
      ]
     },
     "execution_count": 40,
     "metadata": {},
     "output_type": "execute_result"
    }
   ],
   "source": [
    "# Update the key DataFrames with cleaned versions\n",
    "profile_df = cleaned_profile_df.copy()\n",
    "transcript_df = transcript_clean_df.copy()\n",
    "\n",
    "# portfolio_df remains unchanged\n",
    "\n",
    "# Show confirmation of shapes for each DataFrame\n",
    "{\n",
    "    \"portfolio_df\": portfolio_df.shape,\n",
    "    \"profile_df (cleaned)\": profile_df.shape,\n",
    "    \"transcript_df (cleaned)\": transcript_df.shape\n",
    "}"
   ]
  },
  {
   "cell_type": "markdown",
   "metadata": {},
   "source": [
    "## Merging"
   ]
  },
  {
   "cell_type": "code",
   "execution_count": 41,
   "metadata": {},
   "outputs": [
    {
     "data": {
      "text/plain": [
       "(272430, 19)"
      ]
     },
     "execution_count": 41,
     "metadata": {},
     "output_type": "execute_result"
    }
   ],
   "source": [
    "# Step 1: Extract useful fields from 'value'\n",
    "transcript_df['offer_id'] = transcript_df['value'].apply(lambda x: x.get('offer id') or x.get('offer_id'))\n",
    "transcript_df['amount'] = transcript_df['value'].apply(lambda x: x.get('amount'))\n",
    "transcript_df['reward'] = transcript_df['value'].apply(lambda x: x.get('reward'))\n",
    "\n",
    "# Step 2: Rename portfolio 'id' for merging\n",
    "portfolio_df = portfolio_df.rename(columns={'id': 'offer_id'})\n",
    "\n",
    "# Step 3: Merge transcript with portfolio data\n",
    "transcript_merged = transcript_df.merge(portfolio_df, on='offer_id', how='left')\n",
    "\n",
    "# Step 4: Merge transcript + portfolio with user profiles\n",
    "full_data = transcript_merged.merge(profile_df, left_on='person', right_on='id', how='inner')\n",
    "\n",
    "# Step 5: Drop duplicate ID column\n",
    "full_data = full_data.drop(columns=['id'])\n",
    "\n",
    "# Return the shape of the merged full_data\n",
    "full_data.shape"
   ]
  },
  {
   "cell_type": "code",
   "execution_count": 42,
   "metadata": {},
   "outputs": [
    {
     "data": {
      "text/html": [
       "<div>\n",
       "<style scoped>\n",
       "    .dataframe tbody tr th:only-of-type {\n",
       "        vertical-align: middle;\n",
       "    }\n",
       "\n",
       "    .dataframe tbody tr th {\n",
       "        vertical-align: top;\n",
       "    }\n",
       "\n",
       "    .dataframe thead th {\n",
       "        text-align: right;\n",
       "    }\n",
       "</style>\n",
       "<table border=\"1\" class=\"dataframe\">\n",
       "  <thead>\n",
       "    <tr style=\"text-align: right;\">\n",
       "      <th></th>\n",
       "      <th>event</th>\n",
       "      <th>person</th>\n",
       "      <th>time</th>\n",
       "      <th>value</th>\n",
       "      <th>offer_id</th>\n",
       "      <th>amount</th>\n",
       "      <th>reward_x</th>\n",
       "      <th>channels</th>\n",
       "      <th>difficulty</th>\n",
       "      <th>duration</th>\n",
       "      <th>offer_type</th>\n",
       "      <th>reward_y</th>\n",
       "      <th>age</th>\n",
       "      <th>became_member_on</th>\n",
       "      <th>gender</th>\n",
       "      <th>income</th>\n",
       "      <th>gender_missing</th>\n",
       "      <th>income_missing</th>\n",
       "      <th>age_invalid</th>\n",
       "    </tr>\n",
       "  </thead>\n",
       "  <tbody>\n",
       "    <tr>\n",
       "      <th>0</th>\n",
       "      <td>offer received</td>\n",
       "      <td>78afa995795e4d85b5d9ceeca43f5fef</td>\n",
       "      <td>0</td>\n",
       "      <td>{'offer id': '9b98b8c7a33c4b65b9aebfe6a799e6d9'}</td>\n",
       "      <td>9b98b8c7a33c4b65b9aebfe6a799e6d9</td>\n",
       "      <td>NaN</td>\n",
       "      <td>NaN</td>\n",
       "      <td>[web, email, mobile]</td>\n",
       "      <td>5.0</td>\n",
       "      <td>7.0</td>\n",
       "      <td>bogo</td>\n",
       "      <td>5.0</td>\n",
       "      <td>75</td>\n",
       "      <td>20170509</td>\n",
       "      <td>F</td>\n",
       "      <td>100000.0</td>\n",
       "      <td>False</td>\n",
       "      <td>False</td>\n",
       "      <td>False</td>\n",
       "    </tr>\n",
       "    <tr>\n",
       "      <th>1</th>\n",
       "      <td>offer viewed</td>\n",
       "      <td>78afa995795e4d85b5d9ceeca43f5fef</td>\n",
       "      <td>6</td>\n",
       "      <td>{'offer id': '9b98b8c7a33c4b65b9aebfe6a799e6d9'}</td>\n",
       "      <td>9b98b8c7a33c4b65b9aebfe6a799e6d9</td>\n",
       "      <td>NaN</td>\n",
       "      <td>NaN</td>\n",
       "      <td>[web, email, mobile]</td>\n",
       "      <td>5.0</td>\n",
       "      <td>7.0</td>\n",
       "      <td>bogo</td>\n",
       "      <td>5.0</td>\n",
       "      <td>75</td>\n",
       "      <td>20170509</td>\n",
       "      <td>F</td>\n",
       "      <td>100000.0</td>\n",
       "      <td>False</td>\n",
       "      <td>False</td>\n",
       "      <td>False</td>\n",
       "    </tr>\n",
       "    <tr>\n",
       "      <th>2</th>\n",
       "      <td>transaction</td>\n",
       "      <td>78afa995795e4d85b5d9ceeca43f5fef</td>\n",
       "      <td>132</td>\n",
       "      <td>{'amount': 19.89}</td>\n",
       "      <td>None</td>\n",
       "      <td>19.89</td>\n",
       "      <td>NaN</td>\n",
       "      <td>NaN</td>\n",
       "      <td>NaN</td>\n",
       "      <td>NaN</td>\n",
       "      <td>NaN</td>\n",
       "      <td>NaN</td>\n",
       "      <td>75</td>\n",
       "      <td>20170509</td>\n",
       "      <td>F</td>\n",
       "      <td>100000.0</td>\n",
       "      <td>False</td>\n",
       "      <td>False</td>\n",
       "      <td>False</td>\n",
       "    </tr>\n",
       "    <tr>\n",
       "      <th>3</th>\n",
       "      <td>offer completed</td>\n",
       "      <td>78afa995795e4d85b5d9ceeca43f5fef</td>\n",
       "      <td>132</td>\n",
       "      <td>{'offer_id': '9b98b8c7a33c4b65b9aebfe6a799e6d9...</td>\n",
       "      <td>9b98b8c7a33c4b65b9aebfe6a799e6d9</td>\n",
       "      <td>NaN</td>\n",
       "      <td>5.0</td>\n",
       "      <td>[web, email, mobile]</td>\n",
       "      <td>5.0</td>\n",
       "      <td>7.0</td>\n",
       "      <td>bogo</td>\n",
       "      <td>5.0</td>\n",
       "      <td>75</td>\n",
       "      <td>20170509</td>\n",
       "      <td>F</td>\n",
       "      <td>100000.0</td>\n",
       "      <td>False</td>\n",
       "      <td>False</td>\n",
       "      <td>False</td>\n",
       "    </tr>\n",
       "    <tr>\n",
       "      <th>4</th>\n",
       "      <td>transaction</td>\n",
       "      <td>78afa995795e4d85b5d9ceeca43f5fef</td>\n",
       "      <td>144</td>\n",
       "      <td>{'amount': 17.78}</td>\n",
       "      <td>None</td>\n",
       "      <td>17.78</td>\n",
       "      <td>NaN</td>\n",
       "      <td>NaN</td>\n",
       "      <td>NaN</td>\n",
       "      <td>NaN</td>\n",
       "      <td>NaN</td>\n",
       "      <td>NaN</td>\n",
       "      <td>75</td>\n",
       "      <td>20170509</td>\n",
       "      <td>F</td>\n",
       "      <td>100000.0</td>\n",
       "      <td>False</td>\n",
       "      <td>False</td>\n",
       "      <td>False</td>\n",
       "    </tr>\n",
       "  </tbody>\n",
       "</table>\n",
       "</div>"
      ],
      "text/plain": [
       "             event                            person  time  \\\n",
       "0   offer received  78afa995795e4d85b5d9ceeca43f5fef     0   \n",
       "1     offer viewed  78afa995795e4d85b5d9ceeca43f5fef     6   \n",
       "2      transaction  78afa995795e4d85b5d9ceeca43f5fef   132   \n",
       "3  offer completed  78afa995795e4d85b5d9ceeca43f5fef   132   \n",
       "4      transaction  78afa995795e4d85b5d9ceeca43f5fef   144   \n",
       "\n",
       "                                               value  \\\n",
       "0   {'offer id': '9b98b8c7a33c4b65b9aebfe6a799e6d9'}   \n",
       "1   {'offer id': '9b98b8c7a33c4b65b9aebfe6a799e6d9'}   \n",
       "2                                  {'amount': 19.89}   \n",
       "3  {'offer_id': '9b98b8c7a33c4b65b9aebfe6a799e6d9...   \n",
       "4                                  {'amount': 17.78}   \n",
       "\n",
       "                           offer_id  amount  reward_x              channels  \\\n",
       "0  9b98b8c7a33c4b65b9aebfe6a799e6d9     NaN       NaN  [web, email, mobile]   \n",
       "1  9b98b8c7a33c4b65b9aebfe6a799e6d9     NaN       NaN  [web, email, mobile]   \n",
       "2                              None   19.89       NaN                   NaN   \n",
       "3  9b98b8c7a33c4b65b9aebfe6a799e6d9     NaN       5.0  [web, email, mobile]   \n",
       "4                              None   17.78       NaN                   NaN   \n",
       "\n",
       "   difficulty  duration offer_type  reward_y  age  became_member_on gender  \\\n",
       "0         5.0       7.0       bogo       5.0   75          20170509      F   \n",
       "1         5.0       7.0       bogo       5.0   75          20170509      F   \n",
       "2         NaN       NaN        NaN       NaN   75          20170509      F   \n",
       "3         5.0       7.0       bogo       5.0   75          20170509      F   \n",
       "4         NaN       NaN        NaN       NaN   75          20170509      F   \n",
       "\n",
       "     income  gender_missing  income_missing  age_invalid  \n",
       "0  100000.0           False           False        False  \n",
       "1  100000.0           False           False        False  \n",
       "2  100000.0           False           False        False  \n",
       "3  100000.0           False           False        False  \n",
       "4  100000.0           False           False        False  "
      ]
     },
     "execution_count": 42,
     "metadata": {},
     "output_type": "execute_result"
    }
   ],
   "source": [
    "# Preview\n",
    "full_data.head()"
   ]
  },
  {
   "cell_type": "markdown",
   "metadata": {},
   "source": [
    "This will result in a DataFrame full_data with:\n",
    "\n",
    "- Event type, person ID, time, value dict\n",
    "- Parsed offer ID, amount, reward\n",
    "- Offer metadata (type, difficulty, duration, reward, channels)\n",
    "- User demographics (age, gender, income, membership date)"
   ]
  },
  {
   "cell_type": "markdown",
   "metadata": {},
   "source": [
    "## Analyze\n",
    "\n",
    "We will run 5 analyses:\n",
    "\n",
    "#1 Offer Effectiveness\n",
    "- View Rate: % of received offers that are viewed\n",
    "- Completion Rate: % of received offers that are completed\n",
    "- Compared by offer type (BOGO, Discount, Informational)\n",
    "\n",
    "#2 Demographic Response\n",
    "- Offer response by age groups\n",
    "- Offer response by income brackets\n",
    "- Offer response by gender\n",
    "\n",
    "#3 Channel Effectiveness: \n",
    "Which delivery channels (email, mobile, social, web) lead to higher:\n",
    "- View rates\n",
    "- Completion rates\n",
    "\n",
    "#4 Timing Behavior: Helps optimize offer duration\n",
    "Average time between:\n",
    "- Offer received → offer viewed\n",
    "- Offer viewed → offer completed\n",
    "\n",
    "#5 Organic Purchases\n",
    "- Analyze transactions made without viewing or receiving any offers\n",
    "- Compare behavior with offer-driven purchases"
   ]
  },
  {
   "cell_type": "markdown",
   "metadata": {},
   "source": [
    "### #1 Offer Effectiveness"
   ]
  },
  {
   "cell_type": "code",
   "execution_count": 43,
   "metadata": {},
   "outputs": [
    {
     "data": {
      "image/png": "[encoded data removed]",
      "text/plain": [
       "<matplotlib.figure.Figure at 0x78c02877f518>"
      ]
     },
     "metadata": {
      "needs_background": "light"
     },
     "output_type": "display_data"
    },
    {
     "data": {
      "text/html": [
       "<div>\n",
       "<style scoped>\n",
       "    .dataframe tbody tr th:only-of-type {\n",
       "        vertical-align: middle;\n",
       "    }\n",
       "\n",
       "    .dataframe tbody tr th {\n",
       "        vertical-align: top;\n",
       "    }\n",
       "\n",
       "    .dataframe thead th {\n",
       "        text-align: right;\n",
       "    }\n",
       "</style>\n",
       "<table border=\"1\" class=\"dataframe\">\n",
       "  <thead>\n",
       "    <tr style=\"text-align: right;\">\n",
       "      <th>event</th>\n",
       "      <th>offer_type</th>\n",
       "      <th>view_rate</th>\n",
       "      <th>completion_rate</th>\n",
       "    </tr>\n",
       "  </thead>\n",
       "  <tbody>\n",
       "    <tr>\n",
       "      <th>0</th>\n",
       "      <td>bogo</td>\n",
       "      <td>0.831</td>\n",
       "      <td>0.575</td>\n",
       "    </tr>\n",
       "    <tr>\n",
       "      <th>1</th>\n",
       "      <td>discount</td>\n",
       "      <td>0.693</td>\n",
       "      <td>0.645</td>\n",
       "    </tr>\n",
       "    <tr>\n",
       "      <th>2</th>\n",
       "      <td>informational</td>\n",
       "      <td>0.704</td>\n",
       "      <td>0.000</td>\n",
       "    </tr>\n",
       "  </tbody>\n",
       "</table>\n",
       "</div>"
      ],
      "text/plain": [
       "event     offer_type  view_rate  completion_rate\n",
       "0               bogo      0.831            0.575\n",
       "1           discount      0.693            0.645\n",
       "2      informational      0.704            0.000"
      ]
     },
     "execution_count": 43,
     "metadata": {},
     "output_type": "execute_result"
    }
   ],
   "source": [
    "# Filter only events related to offers\n",
    "offers = full_data[full_data['event'].isin(['offer received', 'offer viewed', 'offer completed'])]\n",
    "\n",
    "# Group by offer_id and type, count events\n",
    "offer_stats = offers.groupby(['offer_id', 'offer_type', 'event']).size().unstack(fill_value=0)\n",
    "\n",
    "# Calculate view and completion rates\n",
    "offer_stats['view_rate'] = offer_stats['offer viewed'] / offer_stats['offer received']\n",
    "offer_stats['completion_rate'] = offer_stats['offer completed'] / offer_stats['offer received']\n",
    "\n",
    "# Average rates by offer type\n",
    "summary_by_type = offer_stats.groupby('offer_type')[['view_rate', 'completion_rate']].mean().reset_index()\n",
    "\n",
    "# Plot\n",
    "fig, ax = plt.subplots(1, 2, figsize=(14, 5))\n",
    "\n",
    "# View Rate\n",
    "sns.barplot(data=summary_by_type, x='offer_type', y='view_rate', ax=ax[0], palette='pastel')\n",
    "ax[0].set_title('Average View Rate by Offer Type')\n",
    "ax[0].set_ylabel('View Rate')\n",
    "ax[0].set_xlabel('Offer Type')\n",
    "\n",
    "# Completion Rate\n",
    "sns.barplot(data=summary_by_type, x='offer_type', y='completion_rate', ax=ax[1], palette='muted')\n",
    "ax[1].set_title('Average Completion Rate by Offer Type')\n",
    "ax[1].set_ylabel('Completion Rate')\n",
    "ax[1].set_xlabel('Offer Type')\n",
    "\n",
    "plt.tight_layout()\n",
    "plt.show()\n",
    "\n",
    "summary_by_type.round(3)"
   ]
  },
  {
   "cell_type": "markdown",
   "metadata": {},
   "source": [
    "##### Visuals Recap:\n",
    "- BOGO offers: most likely to be viewed (83%)\n",
    "- Discount offers: highest completion rate (64.5%)\n",
    "- Informational offers: viewed ~70%, but as expected, not completed\n",
    "\n",
    "##### Key Insights:\n",
    "- People like seeing BOGO, but complete discounts more often — likely due to lower effort or better perceived value\n",
    "- Informational offers are not meant for redemption, so the 0% completion is expected\n",
    "- Overall, discount offers seem to drive the most effective behavior change"
   ]
  },
  {
   "cell_type": "markdown",
   "metadata": {},
   "source": [
    "### #2 Demographic Response"
   ]
  },
  {
   "cell_type": "code",
   "execution_count": 44,
   "metadata": {},
   "outputs": [
    {
     "data": {
      "image/png": "[encoded data removed]",
      "text/plain": [
       "<matplotlib.figure.Figure at 0x78bfe2ca6940>"
      ]
     },
     "metadata": {
      "needs_background": "light"
     },
     "output_type": "display_data"
    },
    {
     "data": {
      "image/png": "[encoded data removed]",
      "text/plain": [
       "<matplotlib.figure.Figure at 0x78bfe978bb70>"
      ]
     },
     "metadata": {
      "needs_background": "light"
     },
     "output_type": "display_data"
    },
    {
     "data": {
      "image/png": "[encoded data removed]",
      "text/plain": [
       "<matplotlib.figure.Figure at 0x78bfe9ba2780>"
      ]
     },
     "metadata": {
      "needs_background": "light"
     },
     "output_type": "display_data"
    },
    {
     "data": {
      "text/plain": [
       "(event age_group  view_rate  completion_rate\n",
       " 0         18-25      0.691            0.375\n",
       " 1         26-35      0.692            0.402\n",
       " 2         36-45      0.784            0.468\n",
       " 3         46-55      0.765            0.505\n",
       " 4         56-65      0.754            0.519\n",
       " 5           66+      0.753            0.516,\n",
       " event income_group  view_rate  completion_rate\n",
       " 0             <40k      0.685            0.349\n",
       " 1          40k-60k      0.745            0.426\n",
       " 2          60k-80k      0.775            0.516\n",
       " 3         80k-100k      0.801            0.610\n",
       " 4        100k-150k      0.662            0.624,\n",
       " event gender  view_rate  completion_rate\n",
       " 0          F      0.757            0.564\n",
       " 1          M      0.742            0.432\n",
       " 2          O      0.843            0.547)"
      ]
     },
     "execution_count": 44,
     "metadata": {},
     "output_type": "execute_result"
    }
   ],
   "source": [
    "# Step 1: Prepare demographic buckets\n",
    "full_data['age_group'] = pd.cut(full_data['age'], bins=[17, 25, 35, 45, 55, 65, 120],\n",
    "                                labels=['18-25', '26-35', '36-45', '46-55', '56-65', '66+'])\n",
    "full_data['income_group'] = pd.cut(full_data['income'], bins=[0, 40000, 60000, 80000, 100000, 150000, 200000],\n",
    "                                   labels=['<40k', '40k-60k', '60k-80k', '80k-100k', '100k-150k', '150k+'])\n",
    "\n",
    "# Step 2: Filter for offer events only\n",
    "offer_events = full_data[full_data['event'].isin(['offer received', 'offer viewed', 'offer completed'])]\n",
    "\n",
    "# Step 3: Create helper function to calculate rates by group\n",
    "def compute_response_rates(df, group_col):\n",
    "    grouped = df.groupby([group_col, 'event']).size().unstack(fill_value=0)\n",
    "    grouped['view_rate'] = grouped['offer viewed'] / grouped['offer received']\n",
    "    grouped['completion_rate'] = grouped['offer completed'] / grouped['offer received']\n",
    "    return grouped[['view_rate', 'completion_rate']].reset_index()\n",
    "\n",
    "# Step 4: Apply for each demographic group\n",
    "age_response = compute_response_rates(offer_events, 'age_group')\n",
    "income_response = compute_response_rates(offer_events, 'income_group')\n",
    "gender_response = compute_response_rates(offer_events, 'gender')\n",
    "\n",
    "# Step 5: Plot\n",
    "\n",
    "# Plot 1: Age Group Response\n",
    "plt.figure(figsize=(8, 5))\n",
    "sns.barplot(data=age_response, x='age_group', y='view_rate', color='skyblue', label='View Rate')\n",
    "sns.barplot(data=age_response, x='age_group', y='completion_rate', color='navy', alpha=0.6, label='Completion Rate')\n",
    "plt.title('Offer Response by Age Group')\n",
    "plt.ylabel('Rate')\n",
    "plt.xlabel('Age Group')\n",
    "plt.legend()\n",
    "plt.tight_layout()\n",
    "plt.show()\n",
    "\n",
    "# Plot 2: Income Group Response\n",
    "plt.figure(figsize=(8, 5))\n",
    "sns.barplot(data=income_response, x='income_group', y='view_rate', color='lightgreen', label='View Rate')\n",
    "sns.barplot(data=income_response, x='income_group', y='completion_rate', color='green', alpha=0.6, label='Completion Rate')\n",
    "plt.title('Offer Response by Income Group')\n",
    "plt.ylabel('Rate')\n",
    "plt.xlabel('Income Group')\n",
    "plt.legend()\n",
    "plt.tight_layout()\n",
    "plt.show()\n",
    "\n",
    "# Plot 3: Gender Response\n",
    "plt.figure(figsize=(6, 5))\n",
    "sns.barplot(data=gender_response, x='gender', y='view_rate', color='lightcoral', label='View Rate')\n",
    "sns.barplot(data=gender_response, x='gender', y='completion_rate', color='darkred', alpha=0.6, label='Completion Rate')\n",
    "plt.title('Offer Response by Gender')\n",
    "plt.ylabel('Rate')\n",
    "plt.xlabel('Gender')\n",
    "plt.legend()\n",
    "plt.tight_layout()\n",
    "plt.show()\n",
    "\n",
    "age_response.round(3), income_response.round(3), gender_response.round(3)"
   ]
  },
  {
   "cell_type": "markdown",
   "metadata": {},
   "source": [
    "- Age Group: Completion rate climbs steadily with age: Users 45+ are more likely to complete offers than younger users.\n",
    "- Income Group: Users earning \\\\$80k–150k are most responsive.\n",
    "- Gender: Women and nonbinary users outperform men in offer completions."
   ]
  },
  {
   "cell_type": "markdown",
   "metadata": {},
   "source": [
    "Let's run more analysis around perfromance within each demographics"
   ]
  },
  {
   "cell_type": "code",
   "execution_count": 45,
   "metadata": {},
   "outputs": [
    {
     "data": {
      "text/plain": [
       "(event age_group     offer_type  offer completed  offer received  offer viewed  \\\n",
       " 0         18-25           bogo              744            1811          1459   \n",
       " 1         18-25       discount              960            1836          1079   \n",
       " 2         18-25  informational                0             896           602   \n",
       " 3         26-35           bogo             1130            2470          1998   \n",
       " 4         26-35       discount             1362            2515          1536   \n",
       " 5         26-35  informational                0            1208           754   \n",
       " 6         36-45           bogo             1940            3539          3049   \n",
       " 7         36-45       discount             2191            3529          2537   \n",
       " 8         36-45  informational                0            1760          1331   \n",
       " 9         46-55           bogo             3396            5620          4713   \n",
       " 10        46-55       discount             3656            5524          3900   \n",
       " 11        46-55  informational                0            2832          2076   \n",
       " 12        56-65           bogo             3706            6004          4931   \n",
       " 13        56-65       discount             4160            6147          4402   \n",
       " 14        56-65  informational                0            2996          2083   \n",
       " 15          66+           bogo             4323            7069          5866   \n",
       " 16          66+       discount             4831            7078          4984   \n",
       " 17          66+  informational                0            3593          2502   \n",
       " \n",
       " event  view_rate  completion_rate  \n",
       " 0          0.806            0.411  \n",
       " 1          0.588            0.523  \n",
       " 2          0.672            0.000  \n",
       " 3          0.809            0.457  \n",
       " 4          0.611            0.542  \n",
       " 5          0.624            0.000  \n",
       " 6          0.862            0.548  \n",
       " 7          0.719            0.621  \n",
       " 8          0.756            0.000  \n",
       " 9          0.839            0.604  \n",
       " 10         0.706            0.662  \n",
       " 11         0.733            0.000  \n",
       " 12         0.821            0.617  \n",
       " 13         0.716            0.677  \n",
       " 14         0.695            0.000  \n",
       " 15         0.830            0.612  \n",
       " 16         0.704            0.683  \n",
       " 17         0.696            0.000  ,\n",
       " event income_group     offer_type  offer completed  offer received  \\\n",
       " 0             <40k           bogo             1485            3907   \n",
       " 1             <40k       discount             1893            3881   \n",
       " 2             <40k  informational                0            1879   \n",
       " 3          40k-60k           bogo             3992            8100   \n",
       " 4          40k-60k       discount             4714            8177   \n",
       " 5          40k-60k  informational                0            4159   \n",
       " 6          60k-80k           bogo             4970            8076   \n",
       " 7          60k-80k       discount             5564            8250   \n",
       " 8          60k-80k  informational                0            4070   \n",
       " 9         80k-100k           bogo             3418            4610   \n",
       " 10        80k-100k       discount             3545            4510   \n",
       " 11        80k-100k  informational                0            2291   \n",
       " 12       100k-150k           bogo             1374            1820   \n",
       " 13       100k-150k       discount             1444            1811   \n",
       " 14       100k-150k  informational                0             886   \n",
       " \n",
       " event  offer viewed  view_rate  completion_rate  \n",
       " 0              3124      0.800            0.380  \n",
       " 1              2299      0.592            0.488  \n",
       " 2              1202      0.640            0.000  \n",
       " 3              6760      0.835            0.493  \n",
       " 4              5529      0.676            0.576  \n",
       " 5              2944      0.708            0.000  \n",
       " 6              6863      0.850            0.615  \n",
       " 7              5940      0.720            0.674  \n",
       " 8              3010      0.740            0.000  \n",
       " 9              3893      0.844            0.741  \n",
       " 10             3552      0.788            0.786  \n",
       " 11             1697      0.741            0.000  \n",
       " 12             1376      0.756            0.755  \n",
       " 13             1118      0.617            0.797  \n",
       " 14              495      0.559            0.000  ,\n",
       " event gender     offer_type  offer completed  offer received  offer viewed  \\\n",
       " 0          F           bogo             7487           10956          9125   \n",
       " 1          F       discount             7954           10912          7713   \n",
       " 2          F  informational                0            5524          3899   \n",
       " 3          M           bogo             7509           15205         12578   \n",
       " 4          M       discount             8950           15350         10428   \n",
       " 5          M  informational                0            7567          5289   \n",
       " 6          O           bogo              243             352           313   \n",
       " 7          O       discount              256             367           297   \n",
       " 8          O  informational                0             194           160   \n",
       " \n",
       " event  view_rate  completion_rate  \n",
       " 0          0.833            0.683  \n",
       " 1          0.707            0.729  \n",
       " 2          0.706            0.000  \n",
       " 3          0.827            0.494  \n",
       " 4          0.679            0.583  \n",
       " 5          0.699            0.000  \n",
       " 6          0.889            0.690  \n",
       " 7          0.809            0.698  \n",
       " 8          0.825            0.000  )"
      ]
     },
     "execution_count": 45,
     "metadata": {},
     "output_type": "execute_result"
    }
   ],
   "source": [
    "# Group by offer_type and demographic groups to compute rates\n",
    "def group_offer_response(df, group_cols):\n",
    "    grouped = df[df['event'].isin(['offer received', 'offer viewed', 'offer completed'])] \\\n",
    "        .groupby(group_cols + ['event']).size().unstack(fill_value=0)\n",
    "    grouped['view_rate'] = grouped['offer viewed'] / grouped['offer received']\n",
    "    grouped['completion_rate'] = grouped['offer completed'] / grouped['offer received']\n",
    "    return grouped.reset_index()\n",
    "\n",
    "# Offer response by age group and offer type\n",
    "offer_age_response = group_offer_response(full_data, ['age_group', 'offer_type'])\n",
    "# Offer response by income group and offer type\n",
    "offer_income_response = group_offer_response(full_data, ['income_group', 'offer_type'])\n",
    "# Offer response by gender and offer type\n",
    "offer_gender_response = group_offer_response(full_data, ['gender', 'offer_type'])\n",
    "\n",
    "# Display rounded outputs\n",
    "offer_age_response_round = offer_age_response.round(3)\n",
    "offer_income_response_round = offer_income_response.round(3)\n",
    "offer_gender_response_round = offer_gender_response.round(3)\n",
    "\n",
    "offer_age_response_round, offer_income_response_round, offer_gender_response_round"
   ]
  },
  {
   "cell_type": "markdown",
   "metadata": {},
   "source": [
    "Let's add some visualization to simplify insights generations"
   ]
  },
  {
   "cell_type": "code",
   "execution_count": 46,
   "metadata": {},
   "outputs": [
    {
     "data": {
      "image/png": "[encoded data removed]",
      "text/plain": [
       "<matplotlib.figure.Figure at 0x78c028750c88>"
      ]
     },
     "metadata": {
      "needs_background": "light"
     },
     "output_type": "display_data"
    },
    {
     "data": {
      "image/png": "[encoded data removed]",
      "text/plain": [
       "<matplotlib.figure.Figure at 0x78bfd3e5eb70>"
      ]
     },
     "metadata": {
      "needs_background": "light"
     },
     "output_type": "display_data"
    },
    {
     "data": {
      "image/png": "[encoded data removed]",
      "text/plain": [
       "<matplotlib.figure.Figure at 0x78bfd57175f8>"
      ]
     },
     "metadata": {
      "needs_background": "light"
     },
     "output_type": "display_data"
    }
   ],
   "source": [
    "# Pivot data for heatmaps\n",
    "age_pivot = offer_age_response.pivot(index='age_group', columns='offer_type', values='completion_rate')\n",
    "income_pivot = offer_income_response.pivot(index='income_group', columns='offer_type', values='completion_rate')\n",
    "gender_pivot = offer_gender_response.pivot(index='gender', columns='offer_type', values='completion_rate')\n",
    "\n",
    "# Plot 1: Completion Rate by Age Group and Offer Type\n",
    "plt.figure(figsize=(6, 5))\n",
    "sns.heatmap(age_pivot, annot=True, fmt=\".2f\", cmap=\"Blues\")\n",
    "plt.title(\"Completion Rate by Age Group and Offer Type\")\n",
    "plt.xlabel(\"Offer Type\")\n",
    "plt.ylabel(\"Age Group\")\n",
    "plt.tight_layout()\n",
    "plt.show()\n",
    "\n",
    "# Plot 2: Completion Rate by Income Group and Offer Type\n",
    "plt.figure(figsize=(6, 5))\n",
    "sns.heatmap(income_pivot, annot=True, fmt=\".2f\", cmap=\"Greens\")\n",
    "plt.title(\"Completion Rate by Income Group and Offer Type\")\n",
    "plt.xlabel(\"Offer Type\")\n",
    "plt.ylabel(\"Income Group\")\n",
    "plt.tight_layout()\n",
    "plt.show()\n",
    "\n",
    "# Plot 3: Completion Rate by Gender and Offer Type\n",
    "plt.figure(figsize=(5, 5))\n",
    "sns.heatmap(gender_pivot, annot=True, fmt=\".2f\", cmap=\"Reds\")\n",
    "plt.title(\"Completion Rate by Gender and Offer Type\")\n",
    "plt.xlabel(\"Offer Type\")\n",
    "plt.ylabel(\"Gender\")\n",
    "plt.tight_layout()\n",
    "plt.show()"
   ]
  },
  {
   "cell_type": "markdown",
   "metadata": {},
   "source": [
    "## Offer Completion Insights by Demographics and Offer Type\n",
    "\n",
    "### Completion Rate by Age Group\n",
    "\n",
    "| Age Group | BOGO   | Discount |\n",
    "|-----------|--------|----------|\n",
    "| 18–25     | 41.1%  | 52.3%    |\n",
    "| 26–35     | 45.7%  | 54.2%    |\n",
    "| 36–45     | 54.8%  | 62.1%    |\n",
    "| 46–55     | 60.4%  | 66.2%    |\n",
    "| 56–65     | 61.7%  | 67.7%    |\n",
    "| 66+       | 61.2%  | 68.3%    |\n",
    "\n",
    "**Insights**:\n",
    "- Completion rates increase with age.\n",
    "- Discount offers consistently outperform BOGO offers.\n",
    "\n",
    "---\n",
    "\n",
    "### Completion Rate by Income Group\n",
    "\n",
    "| Income Group | BOGO   | Discount |\n",
    "|--------------|--------|----------|\n",
    "| <40k         | 38.0%  | 48.8%    |\n",
    "| 40k–60k      | 49.3%  | 57.6%    |\n",
    "| 60k–80k      | 61.5%  | 67.4%    |\n",
    "| 80k–100k     | 74.1%  | 78.6%    |\n",
    "| 100k–150k    | 75.5%  | 79.7%    |\n",
    "\n",
    "**Insights**:\n",
    "- Higher income correlates with higher completion.\n",
    "- Discount offers are especially effective with middle-to-high income groups.\n",
    "- Completion is low among <40k users, suggesting poor incentive-to-effort ratio.\n",
    "\n",
    "---\n",
    "\n",
    "### Completion Rate by Gender\n",
    "\n",
    "| Gender | BOGO   | Discount |\n",
    "|--------|--------|----------|\n",
    "| F      | 68.3%  | 72.9%    |\n",
    "| M      | 49.4%  | 58.3%    |\n",
    "| O      | 69.0%  | 69.8%    |\n",
    "\n",
    "**Insights**:\n",
    "- Female and nonbinary users complete offers at higher rates.\n",
    "- Discount offers lead across all genders.\n",
    "- Male users show the lowest overall engagement.\n",
    "\n",
    "---\n",
    "\n",
    "### Strategic Recommendations\n",
    "\n",
    "- Use **discount offers** as the primary engagement tool.\n",
    "- Focus targeting on:\n",
    "  - **Older users** (45+)\n",
    "  - **Mid- to high-income brackets** ($80k–150k)\n",
    "  - **Female and nonbinary users**\n",
    "- Consider improving clarity and UX for BOGO offers, especially for younger and low-income users.\n",
    "\n"
   ]
  },
  {
   "cell_type": "markdown",
   "metadata": {},
   "source": [
    "### #3 Channel Effectiveness"
   ]
  },
  {
   "cell_type": "code",
   "execution_count": 47,
   "metadata": {},
   "outputs": [
    {
     "name": "stderr",
     "output_type": "stream",
     "text": [
      "/opt/conda/lib/python3.6/site-packages/ipykernel_launcher.py:9: SettingWithCopyWarning: \n",
      "A value is trying to be set on a copy of a slice from a DataFrame.\n",
      "Try using .loc[row_indexer,col_indexer] = value instead\n",
      "\n",
      "See the caveats in the documentation: http://pandas.pydata.org/pandas-docs/stable/indexing.html#indexing-view-versus-copy\n",
      "  if __name__ == '__main__':\n"
     ]
    },
    {
     "data": {
      "image/png": "[encoded data removed]",
      "text/plain": [
       "<matplotlib.figure.Figure at 0x78bfd8a5fe80>"
      ]
     },
     "metadata": {
      "needs_background": "light"
     },
     "output_type": "display_data"
    },
    {
     "name": "stdout",
     "output_type": "stream",
     "text": [
      "event channels  offer completed  offer received  offer viewed  view_rate  \\\n",
      "0        email            32399           66427         49802      0.750   \n",
      "1       mobile            29016           59708         47588      0.797   \n",
      "2       social            20929           39759         37156      0.935   \n",
      "3          web            28745           53112         38039      0.716   \n",
      "\n",
      "event  completion_rate  \n",
      "0                0.488  \n",
      "1                0.486  \n",
      "2                0.526  \n",
      "3                0.541  \n"
     ]
    }
   ],
   "source": [
    "# Filter events of interest\n",
    "channel_data = full_data[full_data['event'].isin(['offer received', 'offer viewed', 'offer completed'])].copy()\n",
    "\n",
    "# Drop rows with missing channels\n",
    "channel_data = channel_data[channel_data['channels'].notnull()]\n",
    "\n",
    "# Explode manually: repeat rows for each channel in list\n",
    "channel_data_expanded = channel_data.loc[channel_data.index.repeat(channel_data['channels'].str.len())]\n",
    "channel_data_expanded['channels'] = [channel for sublist in channel_data['channels'] for channel in sublist]\n",
    "\n",
    "# Group by channel and event type\n",
    "channel_stats = channel_data_expanded.groupby(['channels', 'event']).size().unstack(fill_value=0)\n",
    "\n",
    "# Calculate rates\n",
    "channel_stats['view_rate'] = channel_stats['offer viewed'] / channel_stats['offer received']\n",
    "channel_stats['completion_rate'] = channel_stats['offer completed'] / channel_stats['offer received']\n",
    "channel_stats = channel_stats.reset_index()\n",
    "\n",
    "# Plotting\n",
    "fig, ax = plt.subplots(1, 2, figsize=(14, 5))\n",
    "\n",
    "# View Rate Plot\n",
    "sns.barplot(data=channel_stats, x='channels', y='view_rate', ax=ax[0], palette='Blues_d')\n",
    "ax[0].set_title('View Rate by Channel')\n",
    "ax[0].set_ylabel('View Rate')\n",
    "ax[0].set_xlabel('Channel')\n",
    "\n",
    "# Completion Rate Plot\n",
    "sns.barplot(data=channel_stats, x='channels', y='completion_rate', ax=ax[1], palette='Greens_d')\n",
    "ax[1].set_title('Completion Rate by Channel')\n",
    "ax[1].set_ylabel('Completion Rate')\n",
    "ax[1].set_xlabel('Channel')\n",
    "\n",
    "plt.tight_layout()\n",
    "plt.show()\n",
    "\n",
    "# Output summary table\n",
    "print(channel_stats.round(3))"
   ]
  },
  {
   "cell_type": "markdown",
   "metadata": {},
   "source": [
    "## Channel Effectiveness – Insights\n",
    "\n",
    "| Channel | View Rate | Completion Rate |\n",
    "|---------|-----------|-----------------|\n",
    "| **Social** | **93.5%** | 52.6% |\n",
    "| **Web**    | 71.6%      | **54.1%** |\n",
    "| Mobile     | 79.7%      | 48.6% |\n",
    "| Email      | 75.0%      | 48.8% |\n",
    "\n",
    "---\n",
    "\n",
    "### Observations & Interpretations\n",
    "\n",
    "#### Social is King for Engagement\n",
    "- **Highest view rate** at 93.5%  \n",
    "- Offers delivered via social are almost always seen\n",
    "- Suggests users are more attentive to in-app or social notifications\n",
    "\n",
    "#### Web is Best for Conversions\n",
    "- **Highest completion rate** at 54.1%\n",
    "- Users on web likely have higher intent to complete offers\n",
    "\n",
    "#### Mobile is Solid, but Weaker in Conversion\n",
    "- View rate: 79.7%  \n",
    "- Completion rate: 48.6%\n",
    "- Possible friction due to mobile distractions or weaker follow-through\n",
    "\n",
    "#### Email is Reliable, but Less Impactful\n",
    "- View rate: 75%  \n",
    "- Completion rate: 48.8%\n",
    "- Offers may be lost in crowded inboxes or delayed engagement\n",
    "\n",
    "---\n",
    "\n",
    "### Strategic Takeaways\n",
    "\n",
    "- Use **social** channels to maximize visibility and engagement\n",
    "- Deliver high-value offers via **web** for maximum conversion\n",
    "- Utilize **mobile** and **email** as support/reminder channels — not as primary drivers"
   ]
  },
  {
   "cell_type": "markdown",
   "metadata": {},
   "source": [
    "### #4 Timing Behavior"
   ]
  },
  {
   "cell_type": "code",
   "execution_count": 48,
   "metadata": {},
   "outputs": [
    {
     "data": {
      "image/png": "[encoded data removed]",
      "text/plain": [
       "<matplotlib.figure.Figure at 0x78c0292d8d30>"
      ]
     },
     "metadata": {
      "needs_background": "light"
     },
     "output_type": "display_data"
    },
    {
     "name": "stdout",
     "output_type": "stream",
     "text": [
      "{'Average time to view (hrs)': 24.27, 'Median time to view (hrs)': 12.0, 'Average time to complete (hrs)': 43.600000000000001, 'Median time to complete (hrs)': 30.0}\n"
     ]
    }
   ],
   "source": [
    "# Step 1: Filter relevant events\n",
    "lifecycle_data = full_data[full_data['event'].isin(['offer received', 'offer viewed', 'offer completed'])].copy()\n",
    "\n",
    "# Step 2: Sort for time sequencing\n",
    "lifecycle_data = lifecycle_data.sort_values(by=['person', 'offer_id', 'time'])\n",
    "\n",
    "# Step 3: Identify previous event and its time\n",
    "lifecycle_data['prev_event'] = lifecycle_data.groupby(['person', 'offer_id'])['event'].shift(1)\n",
    "lifecycle_data['prev_time'] = lifecycle_data.groupby(['person', 'offer_id'])['time'].shift(1)\n",
    "\n",
    "# Step 4: Compute time from received to viewed\n",
    "received_to_viewed = lifecycle_data[\n",
    "    (lifecycle_data['event'] == 'offer viewed') &\n",
    "    (lifecycle_data['prev_event'] == 'offer received')\n",
    "].copy()\n",
    "received_to_viewed['view_delay'] = received_to_viewed['time'] - received_to_viewed['prev_time']\n",
    "\n",
    "# Step 5: Compute time from viewed to completed\n",
    "viewed_to_completed = lifecycle_data[\n",
    "    (lifecycle_data['event'] == 'offer completed') &\n",
    "    (lifecycle_data['prev_event'] == 'offer viewed')\n",
    "].copy()\n",
    "viewed_to_completed['complete_delay'] = viewed_to_completed['time'] - viewed_to_completed['prev_time']\n",
    "\n",
    "# Step 6: Plot histograms (Seaborn < 0.11 compatible)\n",
    "fig, ax = plt.subplots(1, 2, figsize=(14, 5))\n",
    "\n",
    "# View Delay\n",
    "sns.distplot(received_to_viewed['view_delay'], bins=30, kde=True, ax=ax[0], color='skyblue')\n",
    "ax[0].set_title('Time to View Offer (after Receiving)')\n",
    "ax[0].set_xlabel('Hours')\n",
    "ax[0].set_ylabel('Number of Users')\n",
    "\n",
    "# Completion Delay\n",
    "sns.distplot(viewed_to_completed['complete_delay'], bins=30, kde=True, ax=ax[1], color='lightgreen')\n",
    "ax[1].set_title('Time to Complete Offer (after Viewing)')\n",
    "ax[1].set_xlabel('Hours')\n",
    "ax[1].set_ylabel('Number of Users')\n",
    "\n",
    "plt.tight_layout()\n",
    "plt.show()\n",
    "\n",
    "# Step 7: Summary statistics\n",
    "summary = {\n",
    "    'Average time to view (hrs)': round(received_to_viewed['view_delay'].mean(), 2),\n",
    "    'Median time to view (hrs)': received_to_viewed['view_delay'].median(),\n",
    "    'Average time to complete (hrs)': round(viewed_to_completed['complete_delay'].mean(), 2),\n",
    "    'Median time to complete (hrs)': viewed_to_completed['complete_delay'].median()\n",
    "}\n",
    "\n",
    "print(summary)"
   ]
  },
  {
   "cell_type": "markdown",
   "metadata": {},
   "source": [
    "##  Timing Behavior Analysis\n",
    "\n",
    "### Time to View Offer (after Receiving)\n",
    "- **Average**: 24.3 hours\n",
    "- **Median**: 12.0 hours\n",
    "\n",
    "**Insight**:  \n",
    "Most users view the offer within 12 hours, but there is a long tail — some users delay for days. This highlights the importance of delivering offers when users are active.\n",
    "\n",
    "---\n",
    "\n",
    "### Time to Complete Offer (after Viewing)\n",
    "- **Average**: 43.6 hours\n",
    "- **Median**: 30.0 hours\n",
    "\n",
    "**Insight**:  \n",
    "Users typically take 1–2 days to complete an offer after viewing it. Timely reminders and nudges can help convert hesitant users.\n",
    "\n",
    "---\n",
    "\n",
    "### Strategic Takeaways\n",
    "- Consider **shorter duration offers** (3–5 days), as most activity happens early.\n",
    "- Send **follow-up notifications around 24–48 hours** after viewing to encourage completion.\n",
    "- Explore **time-of-day targeting** to catch users during their most responsive hours."
   ]
  },
  {
   "cell_type": "markdown",
   "metadata": {},
   "source": [
    "### #5 Organic Purchases"
   ]
  },
  {
   "cell_type": "code",
   "execution_count": 49,
   "metadata": {},
   "outputs": [
    {
     "data": {
      "image/png": "[encoded data removed]",
      "text/plain": [
       "<matplotlib.figure.Figure at 0x78bfe759e908>"
      ]
     },
     "metadata": {
      "needs_background": "light"
     },
     "output_type": "display_data"
    },
    {
     "data": {
      "text/html": [
       "<div>\n",
       "<style scoped>\n",
       "    .dataframe tbody tr th:only-of-type {\n",
       "        vertical-align: middle;\n",
       "    }\n",
       "\n",
       "    .dataframe tbody tr th {\n",
       "        vertical-align: top;\n",
       "    }\n",
       "\n",
       "    .dataframe thead th {\n",
       "        text-align: right;\n",
       "    }\n",
       "</style>\n",
       "<table border=\"1\" class=\"dataframe\">\n",
       "  <thead>\n",
       "    <tr style=\"text-align: right;\">\n",
       "      <th></th>\n",
       "      <th>source</th>\n",
       "      <th>count</th>\n",
       "      <th>sum</th>\n",
       "      <th>mean</th>\n",
       "      <th>median</th>\n",
       "    </tr>\n",
       "  </thead>\n",
       "  <tbody>\n",
       "    <tr>\n",
       "      <th>0</th>\n",
       "      <td>influenced</td>\n",
       "      <td>123783</td>\n",
       "      <td>1731781.47</td>\n",
       "      <td>13.99</td>\n",
       "      <td>10.79</td>\n",
       "    </tr>\n",
       "    <tr>\n",
       "      <th>1</th>\n",
       "      <td>organic</td>\n",
       "      <td>19</td>\n",
       "      <td>250.26</td>\n",
       "      <td>13.17</td>\n",
       "      <td>11.53</td>\n",
       "    </tr>\n",
       "  </tbody>\n",
       "</table>\n",
       "</div>"
      ],
      "text/plain": [
       "       source   count         sum   mean  median\n",
       "0  influenced  123783  1731781.47  13.99   10.79\n",
       "1     organic      19      250.26  13.17   11.53"
      ]
     },
     "execution_count": 49,
     "metadata": {},
     "output_type": "execute_result"
    }
   ],
   "source": [
    "# Step 1: Filter transactions\n",
    "transactions = full_data[full_data['event'] == 'transaction'].copy()\n",
    "\n",
    "# Step 2: Identify users who received or viewed offers\n",
    "offer_touch_users = full_data[full_data['event'].isin(['offer received', 'offer viewed'])]['person'].unique()\n",
    "\n",
    "# Step 3: Use vectorized assignment for performance\n",
    "transactions['source'] = 'organic'\n",
    "transactions.loc[transactions['person'].isin(offer_touch_users), 'source'] = 'influenced'\n",
    "\n",
    "# Step 4: Compare transaction behavior\n",
    "summary = transactions.groupby('source')['amount'].agg(['count', 'sum', 'mean', 'median']).reset_index()\n",
    "\n",
    "# Step 5: Plot results\n",
    "import matplotlib.pyplot as plt\n",
    "import seaborn as sns\n",
    "\n",
    "fig, ax = plt.subplots(1, 2, figsize=(12, 5))\n",
    "\n",
    "# Plot count of transactions\n",
    "sns.barplot(data=summary, x='source', y='count', ax=ax[0], palette='pastel')\n",
    "ax[0].set_title('Number of Transactions')\n",
    "ax[0].set_ylabel('Count')\n",
    "ax[0].set_xlabel('Transaction Type')\n",
    "\n",
    "# Plot average transaction amount\n",
    "sns.barplot(data=summary, x='source', y='mean', ax=ax[1], palette='muted')\n",
    "ax[1].set_title('Average Transaction Amount')\n",
    "ax[1].set_ylabel('Average Amount ($)')\n",
    "ax[1].set_xlabel('Transaction Type')\n",
    "\n",
    "plt.tight_layout()\n",
    "plt.show()\n",
    "\n",
    "# View summary table\n",
    "summary.round(2)"
   ]
  },
  {
   "cell_type": "markdown",
   "metadata": {},
   "source": [
    "## Organic vs Influenced Transactions\n",
    "\n",
    "| Source       | Transactions | Total Spend     | Avg Spend | Median Spend |\n",
    "|--------------|--------------|------------------|-----------|---------------|\n",
    "| **Influenced** | 123,783      | \\\\$1,731,781.47     | \\\\$13.99 | \\\\$10.79        |\n",
    "| **Organic**    | 19           | \\\\$250.26           | \\\\$13.17     | \\\\$11.53    |\n",
    "\n",
    "---\n",
    "\n",
    "### Insights\n",
    "\n",
    "- **99.99% of transactions** came from users who received or viewed at least one offer.\n",
    "- **Average spend is higher** for influenced users (\\\\$13.99) compared to organic (\\\\$13.17).\n",
    "- **Median spend is slightly higher** among organic transactions, but sample size is too small for statistical weight.\n",
    "- 🧠 Organic behavior is **negligible** — almost all activity is driven by promotional offers.\n",
    "\n",
    "---\n",
    "\n",
    "### Strategic Takeaway\n",
    "\n",
    "The app's transaction volume is **heavily dependent on promotional engagement**. Consider optimizing the offer strategy further, as users are unlikely to convert without a triggered incentive."
   ]
  },
  {
   "cell_type": "markdown",
   "metadata": {},
   "source": [
    "## Modeling\n",
    "Collaborative Filtering (SVD)\n",
    "\n",
    "We implemented a matrix factorization model using SVD:\n",
    "- Rows: Users\n",
    "- Columns: Offer types (BOGO, Discount, Informational)\n",
    "- Values: 1 if the user completed that type of offer; 0 otherwise\n",
    "\n",
    "The model predicts affinity scores for each user-offer_type pair."
   ]
  },
  {
   "cell_type": "code",
   "execution_count": 51,
   "metadata": {
    "scrolled": true
   },
   "outputs": [
    {
     "data": {
      "image/png": "[encoded data removed]",
      "text/plain": [
       "<matplotlib.figure.Figure at 0x78bfe8fc0390>"
      ]
     },
     "metadata": {
      "needs_background": "light"
     },
     "output_type": "display_data"
    },
    {
     "data": {
      "text/html": [
       "<div>\n",
       "<style scoped>\n",
       "    .dataframe tbody tr th:only-of-type {\n",
       "        vertical-align: middle;\n",
       "    }\n",
       "\n",
       "    .dataframe tbody tr th {\n",
       "        vertical-align: top;\n",
       "    }\n",
       "\n",
       "    .dataframe thead th {\n",
       "        text-align: right;\n",
       "    }\n",
       "</style>\n",
       "<table border=\"1\" class=\"dataframe\">\n",
       "  <thead>\n",
       "    <tr style=\"text-align: right;\">\n",
       "      <th>offer_type</th>\n",
       "      <th>bogo</th>\n",
       "      <th>discount</th>\n",
       "      <th>informational</th>\n",
       "    </tr>\n",
       "    <tr>\n",
       "      <th>person</th>\n",
       "      <th></th>\n",
       "      <th></th>\n",
       "      <th></th>\n",
       "    </tr>\n",
       "  </thead>\n",
       "  <tbody>\n",
       "    <tr>\n",
       "      <th>0009655768c64bdeb2e877511632db8f</th>\n",
       "      <td>1.000000e+00</td>\n",
       "      <td>1.000000e+00</td>\n",
       "      <td>-2.201869e-15</td>\n",
       "    </tr>\n",
       "    <tr>\n",
       "      <th>0011e0d4e6b944f998e987f904e8c1e5</th>\n",
       "      <td>1.000000e+00</td>\n",
       "      <td>1.000000e+00</td>\n",
       "      <td>-2.201869e-15</td>\n",
       "    </tr>\n",
       "    <tr>\n",
       "      <th>0020c2b971eb4e9188eac86d93036a77</th>\n",
       "      <td>1.000000e+00</td>\n",
       "      <td>1.000000e+00</td>\n",
       "      <td>-2.201869e-15</td>\n",
       "    </tr>\n",
       "    <tr>\n",
       "      <th>0020ccbbb6d84e358d3414a3ff76cffd</th>\n",
       "      <td>1.000000e+00</td>\n",
       "      <td>1.000000e+00</td>\n",
       "      <td>-2.201869e-15</td>\n",
       "    </tr>\n",
       "    <tr>\n",
       "      <th>003d66b6608740288d6cc97a6903f4f0</th>\n",
       "      <td>3.330669e-16</td>\n",
       "      <td>1.000000e+00</td>\n",
       "      <td>-1.055669e-15</td>\n",
       "    </tr>\n",
       "    <tr>\n",
       "      <th>00426fe3ffde4c6b9cb9ad6d077a13ea</th>\n",
       "      <td>3.330669e-16</td>\n",
       "      <td>1.000000e+00</td>\n",
       "      <td>-1.055669e-15</td>\n",
       "    </tr>\n",
       "    <tr>\n",
       "      <th>004b041fbfe44859945daa2c7f79ee64</th>\n",
       "      <td>1.000000e+00</td>\n",
       "      <td>1.000000e+00</td>\n",
       "      <td>-2.201869e-15</td>\n",
       "    </tr>\n",
       "    <tr>\n",
       "      <th>004c5799adbf42868b9cff0396190900</th>\n",
       "      <td>1.000000e+00</td>\n",
       "      <td>1.000000e+00</td>\n",
       "      <td>-2.201869e-15</td>\n",
       "    </tr>\n",
       "    <tr>\n",
       "      <th>005500a7188546ff8a767329a2f7c76a</th>\n",
       "      <td>1.000000e+00</td>\n",
       "      <td>3.330669e-16</td>\n",
       "      <td>-1.146201e-15</td>\n",
       "    </tr>\n",
       "    <tr>\n",
       "      <th>0056df74b63b4298809f0b375a304cf4</th>\n",
       "      <td>1.000000e+00</td>\n",
       "      <td>1.000000e+00</td>\n",
       "      <td>-2.201869e-15</td>\n",
       "    </tr>\n",
       "  </tbody>\n",
       "</table>\n",
       "</div>"
      ],
      "text/plain": [
       "offer_type                                bogo      discount  informational\n",
       "person                                                                     \n",
       "0009655768c64bdeb2e877511632db8f  1.000000e+00  1.000000e+00  -2.201869e-15\n",
       "0011e0d4e6b944f998e987f904e8c1e5  1.000000e+00  1.000000e+00  -2.201869e-15\n",
       "0020c2b971eb4e9188eac86d93036a77  1.000000e+00  1.000000e+00  -2.201869e-15\n",
       "0020ccbbb6d84e358d3414a3ff76cffd  1.000000e+00  1.000000e+00  -2.201869e-15\n",
       "003d66b6608740288d6cc97a6903f4f0  3.330669e-16  1.000000e+00  -1.055669e-15\n",
       "00426fe3ffde4c6b9cb9ad6d077a13ea  3.330669e-16  1.000000e+00  -1.055669e-15\n",
       "004b041fbfe44859945daa2c7f79ee64  1.000000e+00  1.000000e+00  -2.201869e-15\n",
       "004c5799adbf42868b9cff0396190900  1.000000e+00  1.000000e+00  -2.201869e-15\n",
       "005500a7188546ff8a767329a2f7c76a  1.000000e+00  3.330669e-16  -1.146201e-15\n",
       "0056df74b63b4298809f0b375a304cf4  1.000000e+00  1.000000e+00  -2.201869e-15"
      ]
     },
     "execution_count": 51,
     "metadata": {},
     "output_type": "execute_result"
    }
   ],
   "source": [
    "from scipy.sparse.linalg import svds\n",
    "import seaborn as sns\n",
    "import matplotlib.pyplot as plt\n",
    "\n",
    "# Step 1: Filter only relevant events (received + completed)\n",
    "offer_data = full_data[full_data['event'].isin(['offer received', 'offer completed'])].copy()\n",
    "\n",
    "# Step 2: Create binary flag for offer completion\n",
    "offer_data['completed_flag'] = np.where(offer_data['event'] == 'offer completed', 1, 0)\n",
    "\n",
    "# Step 3: Aggregate to get max completion per user-offer_type\n",
    "offer_matrix = offer_data.groupby(['person', 'offer_type'])['completed_flag'].max().unstack(fill_value=0)\n",
    "\n",
    "# Step 4: Convert matrix to float (required by svds)\n",
    "user_offer_matrix = offer_matrix.values.astype(float)\n",
    "\n",
    "# Step 5: Apply SVD\n",
    "U, sigma, Vt = svds(user_offer_matrix, k=2)\n",
    "sigma = np.diag(sigma)\n",
    "pred_ratings = np.dot(np.dot(U, sigma), Vt)\n",
    "\n",
    "# Step 6: Format predictions\n",
    "user_ids = offer_matrix.index\n",
    "offer_types = offer_matrix.columns\n",
    "pred_df = pd.DataFrame(pred_ratings, index=user_ids, columns=offer_types)\n",
    "\n",
    "# Step 7: Find top recommended offer type for each user\n",
    "top_offer_type = pred_df.idxmax(axis=1)\n",
    "\n",
    "# Step 8: Count and visualize recommendations\n",
    "recommendation_counts = top_offer_type.value_counts().reset_index()\n",
    "recommendation_counts.columns = ['offer_type', 'count']\n",
    "\n",
    "plt.figure(figsize=(7, 5))\n",
    "sns.barplot(data=recommendation_counts, x='offer_type', y='count', palette='Set2')\n",
    "plt.title('Most Recommended Offer Type Per User (SVD)')\n",
    "plt.xlabel('Offer Type')\n",
    "plt.ylabel('Number of Users')\n",
    "plt.tight_layout()\n",
    "plt.show()\n",
    "\n",
    "# Optional: Show top 10 users' predicted preferences\n",
    "pred_df.head(10)"
   ]
  },
  {
   "cell_type": "markdown",
   "metadata": {},
   "source": [
    "## Final Insight – Offer Optimization Strategy\n",
    "\n",
    "Our analysis confirms that **Starbucks' promotional engine is the main driver of in-app purchases**. The vast majority of transactions (~99.99%) are influenced by offers, and users tend to respond best when:\n",
    "\n",
    "- The **offer type is a discount**, especially among older and higher-income users.\n",
    "- The **delivery channel is social or web**, with the highest view and completion rates.\n",
    "- Offers are viewed within **12–24 hours**, and completed within **1–2 days**, suggesting short-duration offers and timely reminders are key.\n",
    "\n",
    "To optimize conversions, Starbucks should **focus on discount-based offers delivered through social/web channels**, and leverage behavioral timing (reminders 24–48 hours after viewing). Organic purchases are rare, so the promotional system should be continuously tested and tuned.\n",
    "\n",
    "\n",
    "### Conclusion\n",
    "\n",
    "Through a blend of exploratory analysis and collaborative filtering, we built a system that recommends the best offer type per user.\n",
    "\n",
    "The results aligned with business intuition and revealed that:\n",
    "- Discounts work best, especially for older and higher-income users\n",
    "- Timing and channel matter — users act fast when nudged the right way\n",
    "- A data-driven recommender system can reduce promo waste and increase ROI\n"
   ]
  },
  {
   "cell_type": "markdown",
   "metadata": {},
   "source": [
    "## Improvements\n",
    "###### and next steps\n",
    "\n",
    "- Build a hybrid model that combines user demographics with collaborative filtering\n",
    "- Tune the SVD model with cross-validation\n",
    "- Expand to predict not just type of offer but also optimal timing and channel\n"
   ]
  },
  {
   "cell_type": "markdown",
   "metadata": {},
   "source": [
    "## 🙏 Acknowledgments\n",
    "\n",
    "Thanks to Udacity for providing the project framework and Starbucks for the inspiration. This analysis is based on simulated data."
   ]
  },
  {
   "cell_type": "code",
   "execution_count": null,
   "metadata": {},
   "outputs": [],
   "source": []
  }
 ],
 "metadata": {
  "kernelspec": {
   "display_name": "Python 3",
   "language": "python",
   "name": "python3"
  },
  "language_info": {
   "codemirror_mode": {
    "name": "ipython",
    "version": 3
   },
   "file_extension": ".py",
   "mimetype": "text/x-python",
   "name": "python",
   "nbconvert_exporter": "python",
   "pygments_lexer": "ipython3",
   "version": "3.6.3"
  }
 },
 "nbformat": 4,
 "nbformat_minor": 2
}
